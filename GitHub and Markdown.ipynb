{
 "cells": [
  {
   "cell_type": "markdown",
   "id": "2a2e1a81",
   "metadata": {},
   "source": [
    "# GitHub & Markdown"
   ]
  },
  {
   "cell_type": "markdown",
   "id": "64dfb3e7",
   "metadata": {},
   "source": [
    "# Markdown"
   ]
  },
  {
   "cell_type": "markdown",
   "id": "a483633f",
   "metadata": {},
   "source": [
    "Today you're going to work with Markdown and GitHub to prepare any code you've written for publications or presentations. Generally speaking, GitHub allows you to store your code publicly while you work so that anyone can observe how you are analyzing your data, and Markdown is a form of word processing that can help organize that code. Github is used in both industry and academic settings for similar purposes of presenting publicly-accessible code."
   ]
  },
  {
   "cell_type": "markdown",
   "id": "486644d3",
   "metadata": {},
   "source": [
    "Right now, you're reading Markdown. The code in the first title cell is just \"# GitHub & Markdown\" and then the cell is Markdown, not Code, from the dropdown menu in the Jupyter Notebook toolbar. Once you run the line \"# GitHub & Markdown,\" it automatically formats into text."
   ]
  },
  {
   "cell_type": "markdown",
   "id": "96e0230d",
   "metadata": {},
   "source": [
    "### If you double click on a text cell in Markdown, you'll see exactly how the code is written. Just run the cell again to format it. See how there's 3 #'s for this cell? That's what makes it a heading, bolded, with larger font. More # descreases the size of the heading."
   ]
  },
  {
   "cell_type": "markdown",
   "id": "114178e9",
   "metadata": {},
   "source": [
    "Try it out below. Write two cells, one cell with a title and one cell with smaller text. It can say anything e.g. \"Hello\" and \"Goodbye.\"\""
   ]
  },
  {
   "cell_type": "markdown",
   "id": "5698b81c",
   "metadata": {},
   "source": []
  },
  {
   "cell_type": "markdown",
   "id": "4e587385",
   "metadata": {},
   "source": []
  },
  {
   "cell_type": "markdown",
   "id": "bf0dcfe6",
   "metadata": {},
   "source": [
    "Okay so now you can maybe try some italics or maybe even some bold text for the cell below:"
   ]
  },
  {
   "cell_type": "markdown",
   "id": "2334d3a3",
   "metadata": {},
   "source": []
  },
  {
   "cell_type": "markdown",
   "id": "e91b74e8",
   "metadata": {},
   "source": [
    "Here's an *example* of the **text** in Markdown. Check out this cell for the syntax for *italics* and **bold**."
   ]
  },
  {
   "cell_type": "markdown",
   "id": "01c8f6a2",
   "metadata": {},
   "source": [
    "### Great job! Now write a description of any of the code you have written during the course fo the bootcamp. Just a description of what the data is, and what the code does with the data. It doesn't have to be complete working code. Just describe the code from one (1) of your notebooks."
   ]
  },
  {
   "cell_type": "markdown",
   "id": "164c70d6",
   "metadata": {},
   "source": []
  },
  {
   "cell_type": "markdown",
   "id": "a1c306b8",
   "metadata": {},
   "source": [
    "If you want to do more with Markdown, there are extensive resources online, documenting the syntax. There's all sorts of options for headings, sub-headings, *italics*, and **bold**. Here's one cheat sheet: https://www.markdownguide.org/cheat-sheet/."
   ]
  },
  {
   "cell_type": "markdown",
   "id": "fd62ad03",
   "metadata": {},
   "source": [
    "# GitHub"
   ]
  },
  {
   "cell_type": "markdown",
   "id": "78b58771",
   "metadata": {},
   "source": [
    "This section has two parts: Beginning Band and Advanced Band. Beginning Band involves just clicking and uploading things **via the Github website.** Advanced Band involves using the Github Desktop app to maintain your repository through a folder **on your computer.** "
   ]
  },
  {
   "cell_type": "markdown",
   "id": "2624452a",
   "metadata": {},
   "source": [
    "## Beginning Band"
   ]
  },
  {
   "cell_type": "markdown",
   "id": "17fff87e",
   "metadata": {},
   "source": [
    "## Uploading to Github"
   ]
  },
  {
   "cell_type": "markdown",
   "id": "4db95ccd",
   "metadata": {},
   "source": [
    "Now we will upload both the code, and a description, to your GitHub account."
   ]
  },
  {
   "cell_type": "markdown",
   "id": "419a1513",
   "metadata": {},
   "source": [
    "1. First, you'll need a Github account. Go to www.github.com and create an account.\n",
    "2. Open a new repository on GitHub, with the title \"CSS Bootcamp,\" enter a brief description of the repository, and select \"Initialize with a README.\""
   ]
  },
  {
   "cell_type": "markdown",
   "id": "942ab752",
   "metadata": {},
   "source": [
    "### Great! Now you have a repository where you can publicly display your code."
   ]
  },
  {
   "cell_type": "markdown",
   "id": "a9987c83",
   "metadata": {},
   "source": [
    "1. Click on the README.md file in the directory. This will bring you to new page showing the README.md in Markdown format.\n",
    "2. Click the pencil on the toolbar on the right. Copy and paste the description you wrote above into the file. Make sure you include any Markdown language to add proper bold, italics, headings, etc.\n",
    "3. Once you're done, scroll to the bottom of the page and commit changes. You can choose to fill out the textbox above Commit Changes with information about the changes you made. Since this is your own repository, this isn't as important, but if you are working on a repository that will be frequently seen, perhaps for a package you develop, or you're collaborating, this is a way of tracking the changes to the code and you should at least provide some information about what was changed."
   ]
  },
  {
   "cell_type": "markdown",
   "id": "afa0a613",
   "metadata": {},
   "source": [
    "## HOORAY! You've created your first repo and your first commit."
   ]
  },
  {
   "cell_type": "markdown",
   "id": "115acfc3",
   "metadata": {},
   "source": [
    "### Your next commit to your repo is going to be one of the Jupyter Notebooks full of code that you have written during the bootcamp."
   ]
  },
  {
   "cell_type": "markdown",
   "id": "55c3c555",
   "metadata": {},
   "source": [
    "1. First, you'll need to export your Jupyter Notebook into it's own file. Don't use this current Notebook. Find one that you are particularly proud of where you analyzed some data from one of the data sets you've encountered. Even better, use the one you described above in Markdown. Exporting can be done by clicking File > Download as > Notebook, in the toolbar above. \n",
    "\n",
    "2. Second, go back to GitHub, and click on Add file > Upload files. You'll now be on a page where you can drag and drop the Notebook you just exported to upload it onto GitHub. Scroll down and then Commit Changes. Provide a little description of the commit in one of the textboxes before you commit."
   ]
  },
  {
   "cell_type": "markdown",
   "id": "59f5e72c",
   "metadata": {},
   "source": [
    "You now have a repository with a README.md and the file you've just uploaded. GitHub shows the description of your commit next to the file you just uploaded, and shows the information in the README below, formatted for easy reading."
   ]
  },
  {
   "cell_type": "markdown",
   "id": "f422d94b",
   "metadata": {},
   "source": [
    "### You're now ready to show off all of your code with Github and Markdown for any of your future assignments and projects. GitHub is seen as an important part of a resume for computational jobs and research positions since it's where you can show off your skill."
   ]
  },
  {
   "cell_type": "markdown",
   "id": "f5b1f9a1",
   "metadata": {},
   "source": [
    "## Advanced Band"
   ]
  },
  {
   "cell_type": "markdown",
   "id": "49700fdc",
   "metadata": {},
   "source": [
    "You might be wondering how you could do this with a lot of files at once because why would you click \"Add file\" 100 times if you have 100 different Notebooks and .csv files. That's where the GitHub Desktop app comes in. You can download it here: https://desktop.github.com/."
   ]
  },
  {
   "cell_type": "markdown",
   "id": "33225633",
   "metadata": {},
   "source": [
    "**IMPORTANT NOTE:** You can also do this from command line in the Terminal on your computer or from a cell in a Jupyter Notebook with Unix, and many people do. That's not part of today's tutorial. We're going to use the Desktop app because it's just infinitely less prone to errors when committing changes to repositories and doesn't require that you write any code."
   ]
  },
  {
   "cell_type": "markdown",
   "id": "bc1f48e0",
   "metadata": {},
   "source": [
    "The Desktop app will allow you to maintain a folder on your computer where you put all of your code, and then at the end of your day, you can commit the entire folder, with all of its changes, to your repository on GitHub, with the click of one (or two) buttons."
   ]
  },
  {
   "cell_type": "markdown",
   "id": "29a741c5",
   "metadata": {},
   "source": [
    "### Cloning with the Desktop App"
   ]
  },
  {
   "cell_type": "markdown",
   "id": "0321cfbf",
   "metadata": {},
   "source": [
    "1. Open up the Desktop app, sign in, and click the top left dropdown arrow and select \"Clone repository.\" You'll then see the one you just created online in the format of: (your username)/(your repository name).\n",
    "2. Select the repository, and then look below at Local Path. This is where it will put the folder of your repository **on your computer**. It's usually something basic like /(user/(your computer username)/GitHub/(your repo name). Once you've verified it's somewhere obvious, click Clone repository, and it'll pull down the repository to your computer.\n",
    "3. Now navigate to the folder your just downloaded and check to make sure your two files are there."
   ]
  },
  {
   "cell_type": "markdown",
   "id": "7ce92da2",
   "metadata": {},
   "source": [
    "Okay cool so what if I make some new code and I want to make sure it get updated to the repo **on the GitHub website?**"
   ]
  },
  {
   "cell_type": "markdown",
   "id": "2b48abcd",
   "metadata": {},
   "source": [
    "### Committing changes with the Desktop app"
   ]
  },
  {
   "cell_type": "markdown",
   "id": "c7afe447",
   "metadata": {},
   "source": [
    "1. Make a random file. Maybe a .csv with three random numbers in it. A .txt file with something like \"Hello! I'm a banana.\" Or download another Jupyter Notebook you've made.\n",
    "2. Put that file into your new repository folder **on your computer** and then switch back over to the Github Desktop app.\n",
    "3. You should now see a list on the left that includes the file you just made, and then a textbox in the bottom left corner. That textbox is the same as the one you fill out on GitHub when committing a change. Use this to describe the changes you're committing like \"adding new .txt file.\"\n",
    "4. Click Commit to master, and then click Push origin.\n",
    "5. Navigate to your GitHub repo web page and refresh. You'll see the new file listed with the original two."
   ]
  },
  {
   "cell_type": "markdown",
   "id": "49283045",
   "metadata": {},
   "source": [
    "## You're done! A couple of notes about GitHub below that are important to keep in mind."
   ]
  },
  {
   "cell_type": "markdown",
   "id": "a88ba4f1",
   "metadata": {},
   "source": [
    "- GitHub is not a cloud like Google Drive or Dropbox. It can only maintain files under 100MB. Just use it for code, tutorials with small data sets, etc. You won't be able (and shouldn't) store your data on GitHub.\n",
    "- In a similar vein, the repo on the GitHub website will not update unless you commit to the master branch and you push the changes. This is to protect things getting overwritten. Each time you push changes, you're literally committing to the changes you have pushed. This is because version control is incredibly important when you're collaborating with multiple people on code.\n",
    "- Again, similarly, your computer will not just update the repository unless you fetch the data. You can do this with the Fetch origin command on the top toolbar of the Desktop app. I'd do this at the beginning of any coding session to make sure you have the freshest version of a repo before making any changes."
   ]
  },
  {
   "cell_type": "markdown",
   "id": "f659598a",
   "metadata": {},
   "source": [
    "# That's all. Congratz on being (almost) done with the bootcamp and making a flashy portfolio of code on Github!"
   ]
  }
 ],
 "metadata": {
  "kernelspec": {
   "display_name": "Python 3 (ipykernel)",
   "language": "python",
   "name": "python3"
  },
  "language_info": {
   "codemirror_mode": {
    "name": "ipython",
    "version": 3
   },
   "file_extension": ".py",
   "mimetype": "text/x-python",
   "name": "python",
   "nbconvert_exporter": "python",
   "pygments_lexer": "ipython3",
   "version": "3.9.5"
  }
 },
 "nbformat": 4,
 "nbformat_minor": 5
}
