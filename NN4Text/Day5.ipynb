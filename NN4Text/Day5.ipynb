{
  "nbformat": 4,
  "nbformat_minor": 0,
  "metadata": {
    "colab": {
      "provenance": [],
      "collapsed_sections": []
    },
    "kernelspec": {
      "name": "python3",
      "display_name": "Python 3"
    },
    "language_info": {
      "name": "python"
    },
    "widgets": {
      "application/vnd.jupyter.widget-state+json": {
        "8ffad614b9674af69e43a8f767cd6fc0": {
          "model_module": "@jupyter-widgets/controls",
          "model_name": "HBoxModel",
          "model_module_version": "1.5.0",
          "state": {
            "_dom_classes": [],
            "_model_module": "@jupyter-widgets/controls",
            "_model_module_version": "1.5.0",
            "_model_name": "HBoxModel",
            "_view_count": null,
            "_view_module": "@jupyter-widgets/controls",
            "_view_module_version": "1.5.0",
            "_view_name": "HBoxView",
            "box_style": "",
            "children": [
              "IPY_MODEL_6d7e06acba7540968a4526098c80bb87",
              "IPY_MODEL_6cf866b7351d4609bc7cd935d4584f92",
              "IPY_MODEL_2fe758994d174326acec3c0877f075a3"
            ],
            "layout": "IPY_MODEL_7423534e52ef4b6da3cfa4f44d685d6c"
          }
        },
        "6d7e06acba7540968a4526098c80bb87": {
          "model_module": "@jupyter-widgets/controls",
          "model_name": "HTMLModel",
          "model_module_version": "1.5.0",
          "state": {
            "_dom_classes": [],
            "_model_module": "@jupyter-widgets/controls",
            "_model_module_version": "1.5.0",
            "_model_name": "HTMLModel",
            "_view_count": null,
            "_view_module": "@jupyter-widgets/controls",
            "_view_module_version": "1.5.0",
            "_view_name": "HTMLView",
            "description": "",
            "description_tooltip": null,
            "layout": "IPY_MODEL_aeac91f6589d4b7eafa4c04351b38500",
            "placeholder": "​",
            "style": "IPY_MODEL_58894cfe41d444e4806f866e2e79d55c",
            "value": ""
          }
        },
        "6cf866b7351d4609bc7cd935d4584f92": {
          "model_module": "@jupyter-widgets/controls",
          "model_name": "FloatProgressModel",
          "model_module_version": "1.5.0",
          "state": {
            "_dom_classes": [],
            "_model_module": "@jupyter-widgets/controls",
            "_model_module_version": "1.5.0",
            "_model_name": "FloatProgressModel",
            "_view_count": null,
            "_view_module": "@jupyter-widgets/controls",
            "_view_module_version": "1.5.0",
            "_view_name": "ProgressView",
            "bar_style": "success",
            "description": "",
            "description_tooltip": null,
            "layout": "IPY_MODEL_64913bc914f74e1c81e86d287794a3cd",
            "max": 1,
            "min": 0,
            "orientation": "horizontal",
            "style": "IPY_MODEL_5a1436448d314847bf3aa2f2d641846e",
            "value": 0
          }
        },
        "2fe758994d174326acec3c0877f075a3": {
          "model_module": "@jupyter-widgets/controls",
          "model_name": "HTMLModel",
          "model_module_version": "1.5.0",
          "state": {
            "_dom_classes": [],
            "_model_module": "@jupyter-widgets/controls",
            "_model_module_version": "1.5.0",
            "_model_name": "HTMLModel",
            "_view_count": null,
            "_view_module": "@jupyter-widgets/controls",
            "_view_module_version": "1.5.0",
            "_view_name": "HTMLView",
            "description": "",
            "description_tooltip": null,
            "layout": "IPY_MODEL_842b60b34d3243529eb196e2ec28b56d",
            "placeholder": "​",
            "style": "IPY_MODEL_4e7cc156aa7f430c9631ecead1c8cfca",
            "value": " 0/0 [00:00&lt;?, ?it/s]"
          }
        },
        "7423534e52ef4b6da3cfa4f44d685d6c": {
          "model_module": "@jupyter-widgets/base",
          "model_name": "LayoutModel",
          "model_module_version": "1.2.0",
          "state": {
            "_model_module": "@jupyter-widgets/base",
            "_model_module_version": "1.2.0",
            "_model_name": "LayoutModel",
            "_view_count": null,
            "_view_module": "@jupyter-widgets/base",
            "_view_module_version": "1.2.0",
            "_view_name": "LayoutView",
            "align_content": null,
            "align_items": null,
            "align_self": null,
            "border": null,
            "bottom": null,
            "display": null,
            "flex": null,
            "flex_flow": null,
            "grid_area": null,
            "grid_auto_columns": null,
            "grid_auto_flow": null,
            "grid_auto_rows": null,
            "grid_column": null,
            "grid_gap": null,
            "grid_row": null,
            "grid_template_areas": null,
            "grid_template_columns": null,
            "grid_template_rows": null,
            "height": null,
            "justify_content": null,
            "justify_items": null,
            "left": null,
            "margin": null,
            "max_height": null,
            "max_width": null,
            "min_height": null,
            "min_width": null,
            "object_fit": null,
            "object_position": null,
            "order": null,
            "overflow": null,
            "overflow_x": null,
            "overflow_y": null,
            "padding": null,
            "right": null,
            "top": null,
            "visibility": null,
            "width": null
          }
        },
        "aeac91f6589d4b7eafa4c04351b38500": {
          "model_module": "@jupyter-widgets/base",
          "model_name": "LayoutModel",
          "model_module_version": "1.2.0",
          "state": {
            "_model_module": "@jupyter-widgets/base",
            "_model_module_version": "1.2.0",
            "_model_name": "LayoutModel",
            "_view_count": null,
            "_view_module": "@jupyter-widgets/base",
            "_view_module_version": "1.2.0",
            "_view_name": "LayoutView",
            "align_content": null,
            "align_items": null,
            "align_self": null,
            "border": null,
            "bottom": null,
            "display": null,
            "flex": null,
            "flex_flow": null,
            "grid_area": null,
            "grid_auto_columns": null,
            "grid_auto_flow": null,
            "grid_auto_rows": null,
            "grid_column": null,
            "grid_gap": null,
            "grid_row": null,
            "grid_template_areas": null,
            "grid_template_columns": null,
            "grid_template_rows": null,
            "height": null,
            "justify_content": null,
            "justify_items": null,
            "left": null,
            "margin": null,
            "max_height": null,
            "max_width": null,
            "min_height": null,
            "min_width": null,
            "object_fit": null,
            "object_position": null,
            "order": null,
            "overflow": null,
            "overflow_x": null,
            "overflow_y": null,
            "padding": null,
            "right": null,
            "top": null,
            "visibility": null,
            "width": null
          }
        },
        "58894cfe41d444e4806f866e2e79d55c": {
          "model_module": "@jupyter-widgets/controls",
          "model_name": "DescriptionStyleModel",
          "model_module_version": "1.5.0",
          "state": {
            "_model_module": "@jupyter-widgets/controls",
            "_model_module_version": "1.5.0",
            "_model_name": "DescriptionStyleModel",
            "_view_count": null,
            "_view_module": "@jupyter-widgets/base",
            "_view_module_version": "1.2.0",
            "_view_name": "StyleView",
            "description_width": ""
          }
        },
        "64913bc914f74e1c81e86d287794a3cd": {
          "model_module": "@jupyter-widgets/base",
          "model_name": "LayoutModel",
          "model_module_version": "1.2.0",
          "state": {
            "_model_module": "@jupyter-widgets/base",
            "_model_module_version": "1.2.0",
            "_model_name": "LayoutModel",
            "_view_count": null,
            "_view_module": "@jupyter-widgets/base",
            "_view_module_version": "1.2.0",
            "_view_name": "LayoutView",
            "align_content": null,
            "align_items": null,
            "align_self": null,
            "border": null,
            "bottom": null,
            "display": null,
            "flex": null,
            "flex_flow": null,
            "grid_area": null,
            "grid_auto_columns": null,
            "grid_auto_flow": null,
            "grid_auto_rows": null,
            "grid_column": null,
            "grid_gap": null,
            "grid_row": null,
            "grid_template_areas": null,
            "grid_template_columns": null,
            "grid_template_rows": null,
            "height": null,
            "justify_content": null,
            "justify_items": null,
            "left": null,
            "margin": null,
            "max_height": null,
            "max_width": null,
            "min_height": null,
            "min_width": null,
            "object_fit": null,
            "object_position": null,
            "order": null,
            "overflow": null,
            "overflow_x": null,
            "overflow_y": null,
            "padding": null,
            "right": null,
            "top": null,
            "visibility": null,
            "width": "20px"
          }
        },
        "5a1436448d314847bf3aa2f2d641846e": {
          "model_module": "@jupyter-widgets/controls",
          "model_name": "ProgressStyleModel",
          "model_module_version": "1.5.0",
          "state": {
            "_model_module": "@jupyter-widgets/controls",
            "_model_module_version": "1.5.0",
            "_model_name": "ProgressStyleModel",
            "_view_count": null,
            "_view_module": "@jupyter-widgets/base",
            "_view_module_version": "1.2.0",
            "_view_name": "StyleView",
            "bar_color": null,
            "description_width": ""
          }
        },
        "842b60b34d3243529eb196e2ec28b56d": {
          "model_module": "@jupyter-widgets/base",
          "model_name": "LayoutModel",
          "model_module_version": "1.2.0",
          "state": {
            "_model_module": "@jupyter-widgets/base",
            "_model_module_version": "1.2.0",
            "_model_name": "LayoutModel",
            "_view_count": null,
            "_view_module": "@jupyter-widgets/base",
            "_view_module_version": "1.2.0",
            "_view_name": "LayoutView",
            "align_content": null,
            "align_items": null,
            "align_self": null,
            "border": null,
            "bottom": null,
            "display": null,
            "flex": null,
            "flex_flow": null,
            "grid_area": null,
            "grid_auto_columns": null,
            "grid_auto_flow": null,
            "grid_auto_rows": null,
            "grid_column": null,
            "grid_gap": null,
            "grid_row": null,
            "grid_template_areas": null,
            "grid_template_columns": null,
            "grid_template_rows": null,
            "height": null,
            "justify_content": null,
            "justify_items": null,
            "left": null,
            "margin": null,
            "max_height": null,
            "max_width": null,
            "min_height": null,
            "min_width": null,
            "object_fit": null,
            "object_position": null,
            "order": null,
            "overflow": null,
            "overflow_x": null,
            "overflow_y": null,
            "padding": null,
            "right": null,
            "top": null,
            "visibility": null,
            "width": null
          }
        },
        "4e7cc156aa7f430c9631ecead1c8cfca": {
          "model_module": "@jupyter-widgets/controls",
          "model_name": "DescriptionStyleModel",
          "model_module_version": "1.5.0",
          "state": {
            "_model_module": "@jupyter-widgets/controls",
            "_model_module_version": "1.5.0",
            "_model_name": "DescriptionStyleModel",
            "_view_count": null,
            "_view_module": "@jupyter-widgets/base",
            "_view_module_version": "1.2.0",
            "_view_name": "StyleView",
            "description_width": ""
          }
        },
        "5af04a9b76804044b78d610acb4a5217": {
          "model_module": "@jupyter-widgets/controls",
          "model_name": "HBoxModel",
          "model_module_version": "1.5.0",
          "state": {
            "_dom_classes": [],
            "_model_module": "@jupyter-widgets/controls",
            "_model_module_version": "1.5.0",
            "_model_name": "HBoxModel",
            "_view_count": null,
            "_view_module": "@jupyter-widgets/controls",
            "_view_module_version": "1.5.0",
            "_view_name": "HBoxView",
            "box_style": "",
            "children": [
              "IPY_MODEL_635f29c5688e4d619fb1055175656929",
              "IPY_MODEL_1b1a1dea5224422088a56ff1ab2abaf4",
              "IPY_MODEL_70745e63df534049bbc9df93b7c1cc47"
            ],
            "layout": "IPY_MODEL_618b04f624f1424b8f23c90ff147c12e"
          }
        },
        "635f29c5688e4d619fb1055175656929": {
          "model_module": "@jupyter-widgets/controls",
          "model_name": "HTMLModel",
          "model_module_version": "1.5.0",
          "state": {
            "_dom_classes": [],
            "_model_module": "@jupyter-widgets/controls",
            "_model_module_version": "1.5.0",
            "_model_name": "HTMLModel",
            "_view_count": null,
            "_view_module": "@jupyter-widgets/controls",
            "_view_module_version": "1.5.0",
            "_view_name": "HTMLView",
            "description": "",
            "description_tooltip": null,
            "layout": "IPY_MODEL_d8316587a60c4e5fbefcfcab00cf62fb",
            "placeholder": "​",
            "style": "IPY_MODEL_fb648be7df4643c99731fb6924bf4a81",
            "value": "Downloading: 100%"
          }
        },
        "1b1a1dea5224422088a56ff1ab2abaf4": {
          "model_module": "@jupyter-widgets/controls",
          "model_name": "FloatProgressModel",
          "model_module_version": "1.5.0",
          "state": {
            "_dom_classes": [],
            "_model_module": "@jupyter-widgets/controls",
            "_model_module_version": "1.5.0",
            "_model_name": "FloatProgressModel",
            "_view_count": null,
            "_view_module": "@jupyter-widgets/controls",
            "_view_module_version": "1.5.0",
            "_view_name": "ProgressView",
            "bar_style": "success",
            "description": "",
            "description_tooltip": null,
            "layout": "IPY_MODEL_b5b3c76085884516920c139342929ba3",
            "max": 629,
            "min": 0,
            "orientation": "horizontal",
            "style": "IPY_MODEL_152ad30ff980423e87497124d998795b",
            "value": 629
          }
        },
        "70745e63df534049bbc9df93b7c1cc47": {
          "model_module": "@jupyter-widgets/controls",
          "model_name": "HTMLModel",
          "model_module_version": "1.5.0",
          "state": {
            "_dom_classes": [],
            "_model_module": "@jupyter-widgets/controls",
            "_model_module_version": "1.5.0",
            "_model_name": "HTMLModel",
            "_view_count": null,
            "_view_module": "@jupyter-widgets/controls",
            "_view_module_version": "1.5.0",
            "_view_name": "HTMLView",
            "description": "",
            "description_tooltip": null,
            "layout": "IPY_MODEL_d2aee8148e17464681d75f632e54fe72",
            "placeholder": "​",
            "style": "IPY_MODEL_24a87091d2dd4d68a32412b62ec72529",
            "value": " 629/629 [00:00&lt;00:00, 8.23kB/s]"
          }
        },
        "618b04f624f1424b8f23c90ff147c12e": {
          "model_module": "@jupyter-widgets/base",
          "model_name": "LayoutModel",
          "model_module_version": "1.2.0",
          "state": {
            "_model_module": "@jupyter-widgets/base",
            "_model_module_version": "1.2.0",
            "_model_name": "LayoutModel",
            "_view_count": null,
            "_view_module": "@jupyter-widgets/base",
            "_view_module_version": "1.2.0",
            "_view_name": "LayoutView",
            "align_content": null,
            "align_items": null,
            "align_self": null,
            "border": null,
            "bottom": null,
            "display": null,
            "flex": null,
            "flex_flow": null,
            "grid_area": null,
            "grid_auto_columns": null,
            "grid_auto_flow": null,
            "grid_auto_rows": null,
            "grid_column": null,
            "grid_gap": null,
            "grid_row": null,
            "grid_template_areas": null,
            "grid_template_columns": null,
            "grid_template_rows": null,
            "height": null,
            "justify_content": null,
            "justify_items": null,
            "left": null,
            "margin": null,
            "max_height": null,
            "max_width": null,
            "min_height": null,
            "min_width": null,
            "object_fit": null,
            "object_position": null,
            "order": null,
            "overflow": null,
            "overflow_x": null,
            "overflow_y": null,
            "padding": null,
            "right": null,
            "top": null,
            "visibility": null,
            "width": null
          }
        },
        "d8316587a60c4e5fbefcfcab00cf62fb": {
          "model_module": "@jupyter-widgets/base",
          "model_name": "LayoutModel",
          "model_module_version": "1.2.0",
          "state": {
            "_model_module": "@jupyter-widgets/base",
            "_model_module_version": "1.2.0",
            "_model_name": "LayoutModel",
            "_view_count": null,
            "_view_module": "@jupyter-widgets/base",
            "_view_module_version": "1.2.0",
            "_view_name": "LayoutView",
            "align_content": null,
            "align_items": null,
            "align_self": null,
            "border": null,
            "bottom": null,
            "display": null,
            "flex": null,
            "flex_flow": null,
            "grid_area": null,
            "grid_auto_columns": null,
            "grid_auto_flow": null,
            "grid_auto_rows": null,
            "grid_column": null,
            "grid_gap": null,
            "grid_row": null,
            "grid_template_areas": null,
            "grid_template_columns": null,
            "grid_template_rows": null,
            "height": null,
            "justify_content": null,
            "justify_items": null,
            "left": null,
            "margin": null,
            "max_height": null,
            "max_width": null,
            "min_height": null,
            "min_width": null,
            "object_fit": null,
            "object_position": null,
            "order": null,
            "overflow": null,
            "overflow_x": null,
            "overflow_y": null,
            "padding": null,
            "right": null,
            "top": null,
            "visibility": null,
            "width": null
          }
        },
        "fb648be7df4643c99731fb6924bf4a81": {
          "model_module": "@jupyter-widgets/controls",
          "model_name": "DescriptionStyleModel",
          "model_module_version": "1.5.0",
          "state": {
            "_model_module": "@jupyter-widgets/controls",
            "_model_module_version": "1.5.0",
            "_model_name": "DescriptionStyleModel",
            "_view_count": null,
            "_view_module": "@jupyter-widgets/base",
            "_view_module_version": "1.2.0",
            "_view_name": "StyleView",
            "description_width": ""
          }
        },
        "b5b3c76085884516920c139342929ba3": {
          "model_module": "@jupyter-widgets/base",
          "model_name": "LayoutModel",
          "model_module_version": "1.2.0",
          "state": {
            "_model_module": "@jupyter-widgets/base",
            "_model_module_version": "1.2.0",
            "_model_name": "LayoutModel",
            "_view_count": null,
            "_view_module": "@jupyter-widgets/base",
            "_view_module_version": "1.2.0",
            "_view_name": "LayoutView",
            "align_content": null,
            "align_items": null,
            "align_self": null,
            "border": null,
            "bottom": null,
            "display": null,
            "flex": null,
            "flex_flow": null,
            "grid_area": null,
            "grid_auto_columns": null,
            "grid_auto_flow": null,
            "grid_auto_rows": null,
            "grid_column": null,
            "grid_gap": null,
            "grid_row": null,
            "grid_template_areas": null,
            "grid_template_columns": null,
            "grid_template_rows": null,
            "height": null,
            "justify_content": null,
            "justify_items": null,
            "left": null,
            "margin": null,
            "max_height": null,
            "max_width": null,
            "min_height": null,
            "min_width": null,
            "object_fit": null,
            "object_position": null,
            "order": null,
            "overflow": null,
            "overflow_x": null,
            "overflow_y": null,
            "padding": null,
            "right": null,
            "top": null,
            "visibility": null,
            "width": null
          }
        },
        "152ad30ff980423e87497124d998795b": {
          "model_module": "@jupyter-widgets/controls",
          "model_name": "ProgressStyleModel",
          "model_module_version": "1.5.0",
          "state": {
            "_model_module": "@jupyter-widgets/controls",
            "_model_module_version": "1.5.0",
            "_model_name": "ProgressStyleModel",
            "_view_count": null,
            "_view_module": "@jupyter-widgets/base",
            "_view_module_version": "1.2.0",
            "_view_name": "StyleView",
            "bar_color": null,
            "description_width": ""
          }
        },
        "d2aee8148e17464681d75f632e54fe72": {
          "model_module": "@jupyter-widgets/base",
          "model_name": "LayoutModel",
          "model_module_version": "1.2.0",
          "state": {
            "_model_module": "@jupyter-widgets/base",
            "_model_module_version": "1.2.0",
            "_model_name": "LayoutModel",
            "_view_count": null,
            "_view_module": "@jupyter-widgets/base",
            "_view_module_version": "1.2.0",
            "_view_name": "LayoutView",
            "align_content": null,
            "align_items": null,
            "align_self": null,
            "border": null,
            "bottom": null,
            "display": null,
            "flex": null,
            "flex_flow": null,
            "grid_area": null,
            "grid_auto_columns": null,
            "grid_auto_flow": null,
            "grid_auto_rows": null,
            "grid_column": null,
            "grid_gap": null,
            "grid_row": null,
            "grid_template_areas": null,
            "grid_template_columns": null,
            "grid_template_rows": null,
            "height": null,
            "justify_content": null,
            "justify_items": null,
            "left": null,
            "margin": null,
            "max_height": null,
            "max_width": null,
            "min_height": null,
            "min_width": null,
            "object_fit": null,
            "object_position": null,
            "order": null,
            "overflow": null,
            "overflow_x": null,
            "overflow_y": null,
            "padding": null,
            "right": null,
            "top": null,
            "visibility": null,
            "width": null
          }
        },
        "24a87091d2dd4d68a32412b62ec72529": {
          "model_module": "@jupyter-widgets/controls",
          "model_name": "DescriptionStyleModel",
          "model_module_version": "1.5.0",
          "state": {
            "_model_module": "@jupyter-widgets/controls",
            "_model_module_version": "1.5.0",
            "_model_name": "DescriptionStyleModel",
            "_view_count": null,
            "_view_module": "@jupyter-widgets/base",
            "_view_module_version": "1.2.0",
            "_view_name": "StyleView",
            "description_width": ""
          }
        },
        "0b18b986306844708b083ff7f97c18be": {
          "model_module": "@jupyter-widgets/controls",
          "model_name": "HBoxModel",
          "model_module_version": "1.5.0",
          "state": {
            "_dom_classes": [],
            "_model_module": "@jupyter-widgets/controls",
            "_model_module_version": "1.5.0",
            "_model_name": "HBoxModel",
            "_view_count": null,
            "_view_module": "@jupyter-widgets/controls",
            "_view_module_version": "1.5.0",
            "_view_name": "HBoxView",
            "box_style": "",
            "children": [
              "IPY_MODEL_1fff0ac684b548b7b7a3fa5be9494040",
              "IPY_MODEL_db188335cbab4f9c92e2e71f46ea5ad8",
              "IPY_MODEL_094fe0c5767047aa8787a295778c1e3c"
            ],
            "layout": "IPY_MODEL_a8516f9564b347888196544f4c056a0f"
          }
        },
        "1fff0ac684b548b7b7a3fa5be9494040": {
          "model_module": "@jupyter-widgets/controls",
          "model_name": "HTMLModel",
          "model_module_version": "1.5.0",
          "state": {
            "_dom_classes": [],
            "_model_module": "@jupyter-widgets/controls",
            "_model_module_version": "1.5.0",
            "_model_name": "HTMLModel",
            "_view_count": null,
            "_view_module": "@jupyter-widgets/controls",
            "_view_module_version": "1.5.0",
            "_view_name": "HTMLView",
            "description": "",
            "description_tooltip": null,
            "layout": "IPY_MODEL_d6e3a9c4824743fdad6c21aceafb1907",
            "placeholder": "​",
            "style": "IPY_MODEL_2cd905d2486148aa88401fc6e4fc4551",
            "value": "Downloading: 100%"
          }
        },
        "db188335cbab4f9c92e2e71f46ea5ad8": {
          "model_module": "@jupyter-widgets/controls",
          "model_name": "FloatProgressModel",
          "model_module_version": "1.5.0",
          "state": {
            "_dom_classes": [],
            "_model_module": "@jupyter-widgets/controls",
            "_model_module_version": "1.5.0",
            "_model_name": "FloatProgressModel",
            "_view_count": null,
            "_view_module": "@jupyter-widgets/controls",
            "_view_module_version": "1.5.0",
            "_view_name": "ProgressView",
            "bar_style": "success",
            "description": "",
            "description_tooltip": null,
            "layout": "IPY_MODEL_c3e78bf58fe14408a2d07a1a4ba75683",
            "max": 267844284,
            "min": 0,
            "orientation": "horizontal",
            "style": "IPY_MODEL_c375de0858304c7e9a455b58b3d4b281",
            "value": 267844284
          }
        },
        "094fe0c5767047aa8787a295778c1e3c": {
          "model_module": "@jupyter-widgets/controls",
          "model_name": "HTMLModel",
          "model_module_version": "1.5.0",
          "state": {
            "_dom_classes": [],
            "_model_module": "@jupyter-widgets/controls",
            "_model_module_version": "1.5.0",
            "_model_name": "HTMLModel",
            "_view_count": null,
            "_view_module": "@jupyter-widgets/controls",
            "_view_module_version": "1.5.0",
            "_view_name": "HTMLView",
            "description": "",
            "description_tooltip": null,
            "layout": "IPY_MODEL_b9024252c21c4c78ac8010c187e1214b",
            "placeholder": "​",
            "style": "IPY_MODEL_e3a4c6f65f6140e889bdd7e99da6844c",
            "value": " 268M/268M [00:05&lt;00:00, 44.8MB/s]"
          }
        },
        "a8516f9564b347888196544f4c056a0f": {
          "model_module": "@jupyter-widgets/base",
          "model_name": "LayoutModel",
          "model_module_version": "1.2.0",
          "state": {
            "_model_module": "@jupyter-widgets/base",
            "_model_module_version": "1.2.0",
            "_model_name": "LayoutModel",
            "_view_count": null,
            "_view_module": "@jupyter-widgets/base",
            "_view_module_version": "1.2.0",
            "_view_name": "LayoutView",
            "align_content": null,
            "align_items": null,
            "align_self": null,
            "border": null,
            "bottom": null,
            "display": null,
            "flex": null,
            "flex_flow": null,
            "grid_area": null,
            "grid_auto_columns": null,
            "grid_auto_flow": null,
            "grid_auto_rows": null,
            "grid_column": null,
            "grid_gap": null,
            "grid_row": null,
            "grid_template_areas": null,
            "grid_template_columns": null,
            "grid_template_rows": null,
            "height": null,
            "justify_content": null,
            "justify_items": null,
            "left": null,
            "margin": null,
            "max_height": null,
            "max_width": null,
            "min_height": null,
            "min_width": null,
            "object_fit": null,
            "object_position": null,
            "order": null,
            "overflow": null,
            "overflow_x": null,
            "overflow_y": null,
            "padding": null,
            "right": null,
            "top": null,
            "visibility": null,
            "width": null
          }
        },
        "d6e3a9c4824743fdad6c21aceafb1907": {
          "model_module": "@jupyter-widgets/base",
          "model_name": "LayoutModel",
          "model_module_version": "1.2.0",
          "state": {
            "_model_module": "@jupyter-widgets/base",
            "_model_module_version": "1.2.0",
            "_model_name": "LayoutModel",
            "_view_count": null,
            "_view_module": "@jupyter-widgets/base",
            "_view_module_version": "1.2.0",
            "_view_name": "LayoutView",
            "align_content": null,
            "align_items": null,
            "align_self": null,
            "border": null,
            "bottom": null,
            "display": null,
            "flex": null,
            "flex_flow": null,
            "grid_area": null,
            "grid_auto_columns": null,
            "grid_auto_flow": null,
            "grid_auto_rows": null,
            "grid_column": null,
            "grid_gap": null,
            "grid_row": null,
            "grid_template_areas": null,
            "grid_template_columns": null,
            "grid_template_rows": null,
            "height": null,
            "justify_content": null,
            "justify_items": null,
            "left": null,
            "margin": null,
            "max_height": null,
            "max_width": null,
            "min_height": null,
            "min_width": null,
            "object_fit": null,
            "object_position": null,
            "order": null,
            "overflow": null,
            "overflow_x": null,
            "overflow_y": null,
            "padding": null,
            "right": null,
            "top": null,
            "visibility": null,
            "width": null
          }
        },
        "2cd905d2486148aa88401fc6e4fc4551": {
          "model_module": "@jupyter-widgets/controls",
          "model_name": "DescriptionStyleModel",
          "model_module_version": "1.5.0",
          "state": {
            "_model_module": "@jupyter-widgets/controls",
            "_model_module_version": "1.5.0",
            "_model_name": "DescriptionStyleModel",
            "_view_count": null,
            "_view_module": "@jupyter-widgets/base",
            "_view_module_version": "1.2.0",
            "_view_name": "StyleView",
            "description_width": ""
          }
        },
        "c3e78bf58fe14408a2d07a1a4ba75683": {
          "model_module": "@jupyter-widgets/base",
          "model_name": "LayoutModel",
          "model_module_version": "1.2.0",
          "state": {
            "_model_module": "@jupyter-widgets/base",
            "_model_module_version": "1.2.0",
            "_model_name": "LayoutModel",
            "_view_count": null,
            "_view_module": "@jupyter-widgets/base",
            "_view_module_version": "1.2.0",
            "_view_name": "LayoutView",
            "align_content": null,
            "align_items": null,
            "align_self": null,
            "border": null,
            "bottom": null,
            "display": null,
            "flex": null,
            "flex_flow": null,
            "grid_area": null,
            "grid_auto_columns": null,
            "grid_auto_flow": null,
            "grid_auto_rows": null,
            "grid_column": null,
            "grid_gap": null,
            "grid_row": null,
            "grid_template_areas": null,
            "grid_template_columns": null,
            "grid_template_rows": null,
            "height": null,
            "justify_content": null,
            "justify_items": null,
            "left": null,
            "margin": null,
            "max_height": null,
            "max_width": null,
            "min_height": null,
            "min_width": null,
            "object_fit": null,
            "object_position": null,
            "order": null,
            "overflow": null,
            "overflow_x": null,
            "overflow_y": null,
            "padding": null,
            "right": null,
            "top": null,
            "visibility": null,
            "width": null
          }
        },
        "c375de0858304c7e9a455b58b3d4b281": {
          "model_module": "@jupyter-widgets/controls",
          "model_name": "ProgressStyleModel",
          "model_module_version": "1.5.0",
          "state": {
            "_model_module": "@jupyter-widgets/controls",
            "_model_module_version": "1.5.0",
            "_model_name": "ProgressStyleModel",
            "_view_count": null,
            "_view_module": "@jupyter-widgets/base",
            "_view_module_version": "1.2.0",
            "_view_name": "StyleView",
            "bar_color": null,
            "description_width": ""
          }
        },
        "b9024252c21c4c78ac8010c187e1214b": {
          "model_module": "@jupyter-widgets/base",
          "model_name": "LayoutModel",
          "model_module_version": "1.2.0",
          "state": {
            "_model_module": "@jupyter-widgets/base",
            "_model_module_version": "1.2.0",
            "_model_name": "LayoutModel",
            "_view_count": null,
            "_view_module": "@jupyter-widgets/base",
            "_view_module_version": "1.2.0",
            "_view_name": "LayoutView",
            "align_content": null,
            "align_items": null,
            "align_self": null,
            "border": null,
            "bottom": null,
            "display": null,
            "flex": null,
            "flex_flow": null,
            "grid_area": null,
            "grid_auto_columns": null,
            "grid_auto_flow": null,
            "grid_auto_rows": null,
            "grid_column": null,
            "grid_gap": null,
            "grid_row": null,
            "grid_template_areas": null,
            "grid_template_columns": null,
            "grid_template_rows": null,
            "height": null,
            "justify_content": null,
            "justify_items": null,
            "left": null,
            "margin": null,
            "max_height": null,
            "max_width": null,
            "min_height": null,
            "min_width": null,
            "object_fit": null,
            "object_position": null,
            "order": null,
            "overflow": null,
            "overflow_x": null,
            "overflow_y": null,
            "padding": null,
            "right": null,
            "top": null,
            "visibility": null,
            "width": null
          }
        },
        "e3a4c6f65f6140e889bdd7e99da6844c": {
          "model_module": "@jupyter-widgets/controls",
          "model_name": "DescriptionStyleModel",
          "model_module_version": "1.5.0",
          "state": {
            "_model_module": "@jupyter-widgets/controls",
            "_model_module_version": "1.5.0",
            "_model_name": "DescriptionStyleModel",
            "_view_count": null,
            "_view_module": "@jupyter-widgets/base",
            "_view_module_version": "1.2.0",
            "_view_name": "StyleView",
            "description_width": ""
          }
        },
        "b501f34a8fee4c99a530b5f4931f7e9e": {
          "model_module": "@jupyter-widgets/controls",
          "model_name": "HBoxModel",
          "model_module_version": "1.5.0",
          "state": {
            "_dom_classes": [],
            "_model_module": "@jupyter-widgets/controls",
            "_model_module_version": "1.5.0",
            "_model_name": "HBoxModel",
            "_view_count": null,
            "_view_module": "@jupyter-widgets/controls",
            "_view_module_version": "1.5.0",
            "_view_name": "HBoxView",
            "box_style": "",
            "children": [
              "IPY_MODEL_d6acfd12812b47d8bfd020b43896abf5",
              "IPY_MODEL_510a6d5d2717419b843efb2e52d9d9bd",
              "IPY_MODEL_a022b404f91c4310b9b275d51d5ad8ea"
            ],
            "layout": "IPY_MODEL_b3da92585dab49abb24543bf75508a69"
          }
        },
        "d6acfd12812b47d8bfd020b43896abf5": {
          "model_module": "@jupyter-widgets/controls",
          "model_name": "HTMLModel",
          "model_module_version": "1.5.0",
          "state": {
            "_dom_classes": [],
            "_model_module": "@jupyter-widgets/controls",
            "_model_module_version": "1.5.0",
            "_model_name": "HTMLModel",
            "_view_count": null,
            "_view_module": "@jupyter-widgets/controls",
            "_view_module_version": "1.5.0",
            "_view_name": "HTMLView",
            "description": "",
            "description_tooltip": null,
            "layout": "IPY_MODEL_5fbc551a6732415a8021e6abbeab8c07",
            "placeholder": "​",
            "style": "IPY_MODEL_0a296983dfb44f75a2daa61d4ce6a1a2",
            "value": "Downloading: 100%"
          }
        },
        "510a6d5d2717419b843efb2e52d9d9bd": {
          "model_module": "@jupyter-widgets/controls",
          "model_name": "FloatProgressModel",
          "model_module_version": "1.5.0",
          "state": {
            "_dom_classes": [],
            "_model_module": "@jupyter-widgets/controls",
            "_model_module_version": "1.5.0",
            "_model_name": "FloatProgressModel",
            "_view_count": null,
            "_view_module": "@jupyter-widgets/controls",
            "_view_module_version": "1.5.0",
            "_view_name": "ProgressView",
            "bar_style": "success",
            "description": "",
            "description_tooltip": null,
            "layout": "IPY_MODEL_e6e82740606243edbee86a0ff60a3437",
            "max": 48,
            "min": 0,
            "orientation": "horizontal",
            "style": "IPY_MODEL_2594e005896b4928866ec1557115b370",
            "value": 48
          }
        },
        "a022b404f91c4310b9b275d51d5ad8ea": {
          "model_module": "@jupyter-widgets/controls",
          "model_name": "HTMLModel",
          "model_module_version": "1.5.0",
          "state": {
            "_dom_classes": [],
            "_model_module": "@jupyter-widgets/controls",
            "_model_module_version": "1.5.0",
            "_model_name": "HTMLModel",
            "_view_count": null,
            "_view_module": "@jupyter-widgets/controls",
            "_view_module_version": "1.5.0",
            "_view_name": "HTMLView",
            "description": "",
            "description_tooltip": null,
            "layout": "IPY_MODEL_bdc9f42f86af4503988714e9543edde1",
            "placeholder": "​",
            "style": "IPY_MODEL_ad4b4aefe2d64dac97a8aaba0e3abf21",
            "value": " 48.0/48.0 [00:00&lt;00:00, 267B/s]"
          }
        },
        "b3da92585dab49abb24543bf75508a69": {
          "model_module": "@jupyter-widgets/base",
          "model_name": "LayoutModel",
          "model_module_version": "1.2.0",
          "state": {
            "_model_module": "@jupyter-widgets/base",
            "_model_module_version": "1.2.0",
            "_model_name": "LayoutModel",
            "_view_count": null,
            "_view_module": "@jupyter-widgets/base",
            "_view_module_version": "1.2.0",
            "_view_name": "LayoutView",
            "align_content": null,
            "align_items": null,
            "align_self": null,
            "border": null,
            "bottom": null,
            "display": null,
            "flex": null,
            "flex_flow": null,
            "grid_area": null,
            "grid_auto_columns": null,
            "grid_auto_flow": null,
            "grid_auto_rows": null,
            "grid_column": null,
            "grid_gap": null,
            "grid_row": null,
            "grid_template_areas": null,
            "grid_template_columns": null,
            "grid_template_rows": null,
            "height": null,
            "justify_content": null,
            "justify_items": null,
            "left": null,
            "margin": null,
            "max_height": null,
            "max_width": null,
            "min_height": null,
            "min_width": null,
            "object_fit": null,
            "object_position": null,
            "order": null,
            "overflow": null,
            "overflow_x": null,
            "overflow_y": null,
            "padding": null,
            "right": null,
            "top": null,
            "visibility": null,
            "width": null
          }
        },
        "5fbc551a6732415a8021e6abbeab8c07": {
          "model_module": "@jupyter-widgets/base",
          "model_name": "LayoutModel",
          "model_module_version": "1.2.0",
          "state": {
            "_model_module": "@jupyter-widgets/base",
            "_model_module_version": "1.2.0",
            "_model_name": "LayoutModel",
            "_view_count": null,
            "_view_module": "@jupyter-widgets/base",
            "_view_module_version": "1.2.0",
            "_view_name": "LayoutView",
            "align_content": null,
            "align_items": null,
            "align_self": null,
            "border": null,
            "bottom": null,
            "display": null,
            "flex": null,
            "flex_flow": null,
            "grid_area": null,
            "grid_auto_columns": null,
            "grid_auto_flow": null,
            "grid_auto_rows": null,
            "grid_column": null,
            "grid_gap": null,
            "grid_row": null,
            "grid_template_areas": null,
            "grid_template_columns": null,
            "grid_template_rows": null,
            "height": null,
            "justify_content": null,
            "justify_items": null,
            "left": null,
            "margin": null,
            "max_height": null,
            "max_width": null,
            "min_height": null,
            "min_width": null,
            "object_fit": null,
            "object_position": null,
            "order": null,
            "overflow": null,
            "overflow_x": null,
            "overflow_y": null,
            "padding": null,
            "right": null,
            "top": null,
            "visibility": null,
            "width": null
          }
        },
        "0a296983dfb44f75a2daa61d4ce6a1a2": {
          "model_module": "@jupyter-widgets/controls",
          "model_name": "DescriptionStyleModel",
          "model_module_version": "1.5.0",
          "state": {
            "_model_module": "@jupyter-widgets/controls",
            "_model_module_version": "1.5.0",
            "_model_name": "DescriptionStyleModel",
            "_view_count": null,
            "_view_module": "@jupyter-widgets/base",
            "_view_module_version": "1.2.0",
            "_view_name": "StyleView",
            "description_width": ""
          }
        },
        "e6e82740606243edbee86a0ff60a3437": {
          "model_module": "@jupyter-widgets/base",
          "model_name": "LayoutModel",
          "model_module_version": "1.2.0",
          "state": {
            "_model_module": "@jupyter-widgets/base",
            "_model_module_version": "1.2.0",
            "_model_name": "LayoutModel",
            "_view_count": null,
            "_view_module": "@jupyter-widgets/base",
            "_view_module_version": "1.2.0",
            "_view_name": "LayoutView",
            "align_content": null,
            "align_items": null,
            "align_self": null,
            "border": null,
            "bottom": null,
            "display": null,
            "flex": null,
            "flex_flow": null,
            "grid_area": null,
            "grid_auto_columns": null,
            "grid_auto_flow": null,
            "grid_auto_rows": null,
            "grid_column": null,
            "grid_gap": null,
            "grid_row": null,
            "grid_template_areas": null,
            "grid_template_columns": null,
            "grid_template_rows": null,
            "height": null,
            "justify_content": null,
            "justify_items": null,
            "left": null,
            "margin": null,
            "max_height": null,
            "max_width": null,
            "min_height": null,
            "min_width": null,
            "object_fit": null,
            "object_position": null,
            "order": null,
            "overflow": null,
            "overflow_x": null,
            "overflow_y": null,
            "padding": null,
            "right": null,
            "top": null,
            "visibility": null,
            "width": null
          }
        },
        "2594e005896b4928866ec1557115b370": {
          "model_module": "@jupyter-widgets/controls",
          "model_name": "ProgressStyleModel",
          "model_module_version": "1.5.0",
          "state": {
            "_model_module": "@jupyter-widgets/controls",
            "_model_module_version": "1.5.0",
            "_model_name": "ProgressStyleModel",
            "_view_count": null,
            "_view_module": "@jupyter-widgets/base",
            "_view_module_version": "1.2.0",
            "_view_name": "StyleView",
            "bar_color": null,
            "description_width": ""
          }
        },
        "bdc9f42f86af4503988714e9543edde1": {
          "model_module": "@jupyter-widgets/base",
          "model_name": "LayoutModel",
          "model_module_version": "1.2.0",
          "state": {
            "_model_module": "@jupyter-widgets/base",
            "_model_module_version": "1.2.0",
            "_model_name": "LayoutModel",
            "_view_count": null,
            "_view_module": "@jupyter-widgets/base",
            "_view_module_version": "1.2.0",
            "_view_name": "LayoutView",
            "align_content": null,
            "align_items": null,
            "align_self": null,
            "border": null,
            "bottom": null,
            "display": null,
            "flex": null,
            "flex_flow": null,
            "grid_area": null,
            "grid_auto_columns": null,
            "grid_auto_flow": null,
            "grid_auto_rows": null,
            "grid_column": null,
            "grid_gap": null,
            "grid_row": null,
            "grid_template_areas": null,
            "grid_template_columns": null,
            "grid_template_rows": null,
            "height": null,
            "justify_content": null,
            "justify_items": null,
            "left": null,
            "margin": null,
            "max_height": null,
            "max_width": null,
            "min_height": null,
            "min_width": null,
            "object_fit": null,
            "object_position": null,
            "order": null,
            "overflow": null,
            "overflow_x": null,
            "overflow_y": null,
            "padding": null,
            "right": null,
            "top": null,
            "visibility": null,
            "width": null
          }
        },
        "ad4b4aefe2d64dac97a8aaba0e3abf21": {
          "model_module": "@jupyter-widgets/controls",
          "model_name": "DescriptionStyleModel",
          "model_module_version": "1.5.0",
          "state": {
            "_model_module": "@jupyter-widgets/controls",
            "_model_module_version": "1.5.0",
            "_model_name": "DescriptionStyleModel",
            "_view_count": null,
            "_view_module": "@jupyter-widgets/base",
            "_view_module_version": "1.2.0",
            "_view_name": "StyleView",
            "description_width": ""
          }
        },
        "d983f37fce5a4e5dadb78154a0a7a447": {
          "model_module": "@jupyter-widgets/controls",
          "model_name": "HBoxModel",
          "model_module_version": "1.5.0",
          "state": {
            "_dom_classes": [],
            "_model_module": "@jupyter-widgets/controls",
            "_model_module_version": "1.5.0",
            "_model_name": "HBoxModel",
            "_view_count": null,
            "_view_module": "@jupyter-widgets/controls",
            "_view_module_version": "1.5.0",
            "_view_name": "HBoxView",
            "box_style": "",
            "children": [
              "IPY_MODEL_59057d8e0b8247d5964d81af2b5c852a",
              "IPY_MODEL_30e3773aa2d845d2b653bda9b7a9f470",
              "IPY_MODEL_b0f0272a3cb245f9b032b4095634f277"
            ],
            "layout": "IPY_MODEL_8fedaa7fe1724c6b98846e3feb0e32fc"
          }
        },
        "59057d8e0b8247d5964d81af2b5c852a": {
          "model_module": "@jupyter-widgets/controls",
          "model_name": "HTMLModel",
          "model_module_version": "1.5.0",
          "state": {
            "_dom_classes": [],
            "_model_module": "@jupyter-widgets/controls",
            "_model_module_version": "1.5.0",
            "_model_name": "HTMLModel",
            "_view_count": null,
            "_view_module": "@jupyter-widgets/controls",
            "_view_module_version": "1.5.0",
            "_view_name": "HTMLView",
            "description": "",
            "description_tooltip": null,
            "layout": "IPY_MODEL_e1452ed1762a4c029348bafb5fb2c3b3",
            "placeholder": "​",
            "style": "IPY_MODEL_ceb2bb1867ea46f6934e4ffc01892156",
            "value": "Downloading: 100%"
          }
        },
        "30e3773aa2d845d2b653bda9b7a9f470": {
          "model_module": "@jupyter-widgets/controls",
          "model_name": "FloatProgressModel",
          "model_module_version": "1.5.0",
          "state": {
            "_dom_classes": [],
            "_model_module": "@jupyter-widgets/controls",
            "_model_module_version": "1.5.0",
            "_model_name": "FloatProgressModel",
            "_view_count": null,
            "_view_module": "@jupyter-widgets/controls",
            "_view_module_version": "1.5.0",
            "_view_name": "ProgressView",
            "bar_style": "success",
            "description": "",
            "description_tooltip": null,
            "layout": "IPY_MODEL_3488c1af1b0d4c0084ce9a2ee141bf31",
            "max": 231508,
            "min": 0,
            "orientation": "horizontal",
            "style": "IPY_MODEL_6d2b6347101d4cd1b1fa3b3d7251593e",
            "value": 231508
          }
        },
        "b0f0272a3cb245f9b032b4095634f277": {
          "model_module": "@jupyter-widgets/controls",
          "model_name": "HTMLModel",
          "model_module_version": "1.5.0",
          "state": {
            "_dom_classes": [],
            "_model_module": "@jupyter-widgets/controls",
            "_model_module_version": "1.5.0",
            "_model_name": "HTMLModel",
            "_view_count": null,
            "_view_module": "@jupyter-widgets/controls",
            "_view_module_version": "1.5.0",
            "_view_name": "HTMLView",
            "description": "",
            "description_tooltip": null,
            "layout": "IPY_MODEL_81eb1cd81ce94bbd932b4f17d7cd2d16",
            "placeholder": "​",
            "style": "IPY_MODEL_56fad82b80f1450981d3f2b022443202",
            "value": " 232k/232k [00:00&lt;00:00, 2.00MB/s]"
          }
        },
        "8fedaa7fe1724c6b98846e3feb0e32fc": {
          "model_module": "@jupyter-widgets/base",
          "model_name": "LayoutModel",
          "model_module_version": "1.2.0",
          "state": {
            "_model_module": "@jupyter-widgets/base",
            "_model_module_version": "1.2.0",
            "_model_name": "LayoutModel",
            "_view_count": null,
            "_view_module": "@jupyter-widgets/base",
            "_view_module_version": "1.2.0",
            "_view_name": "LayoutView",
            "align_content": null,
            "align_items": null,
            "align_self": null,
            "border": null,
            "bottom": null,
            "display": null,
            "flex": null,
            "flex_flow": null,
            "grid_area": null,
            "grid_auto_columns": null,
            "grid_auto_flow": null,
            "grid_auto_rows": null,
            "grid_column": null,
            "grid_gap": null,
            "grid_row": null,
            "grid_template_areas": null,
            "grid_template_columns": null,
            "grid_template_rows": null,
            "height": null,
            "justify_content": null,
            "justify_items": null,
            "left": null,
            "margin": null,
            "max_height": null,
            "max_width": null,
            "min_height": null,
            "min_width": null,
            "object_fit": null,
            "object_position": null,
            "order": null,
            "overflow": null,
            "overflow_x": null,
            "overflow_y": null,
            "padding": null,
            "right": null,
            "top": null,
            "visibility": null,
            "width": null
          }
        },
        "e1452ed1762a4c029348bafb5fb2c3b3": {
          "model_module": "@jupyter-widgets/base",
          "model_name": "LayoutModel",
          "model_module_version": "1.2.0",
          "state": {
            "_model_module": "@jupyter-widgets/base",
            "_model_module_version": "1.2.0",
            "_model_name": "LayoutModel",
            "_view_count": null,
            "_view_module": "@jupyter-widgets/base",
            "_view_module_version": "1.2.0",
            "_view_name": "LayoutView",
            "align_content": null,
            "align_items": null,
            "align_self": null,
            "border": null,
            "bottom": null,
            "display": null,
            "flex": null,
            "flex_flow": null,
            "grid_area": null,
            "grid_auto_columns": null,
            "grid_auto_flow": null,
            "grid_auto_rows": null,
            "grid_column": null,
            "grid_gap": null,
            "grid_row": null,
            "grid_template_areas": null,
            "grid_template_columns": null,
            "grid_template_rows": null,
            "height": null,
            "justify_content": null,
            "justify_items": null,
            "left": null,
            "margin": null,
            "max_height": null,
            "max_width": null,
            "min_height": null,
            "min_width": null,
            "object_fit": null,
            "object_position": null,
            "order": null,
            "overflow": null,
            "overflow_x": null,
            "overflow_y": null,
            "padding": null,
            "right": null,
            "top": null,
            "visibility": null,
            "width": null
          }
        },
        "ceb2bb1867ea46f6934e4ffc01892156": {
          "model_module": "@jupyter-widgets/controls",
          "model_name": "DescriptionStyleModel",
          "model_module_version": "1.5.0",
          "state": {
            "_model_module": "@jupyter-widgets/controls",
            "_model_module_version": "1.5.0",
            "_model_name": "DescriptionStyleModel",
            "_view_count": null,
            "_view_module": "@jupyter-widgets/base",
            "_view_module_version": "1.2.0",
            "_view_name": "StyleView",
            "description_width": ""
          }
        },
        "3488c1af1b0d4c0084ce9a2ee141bf31": {
          "model_module": "@jupyter-widgets/base",
          "model_name": "LayoutModel",
          "model_module_version": "1.2.0",
          "state": {
            "_model_module": "@jupyter-widgets/base",
            "_model_module_version": "1.2.0",
            "_model_name": "LayoutModel",
            "_view_count": null,
            "_view_module": "@jupyter-widgets/base",
            "_view_module_version": "1.2.0",
            "_view_name": "LayoutView",
            "align_content": null,
            "align_items": null,
            "align_self": null,
            "border": null,
            "bottom": null,
            "display": null,
            "flex": null,
            "flex_flow": null,
            "grid_area": null,
            "grid_auto_columns": null,
            "grid_auto_flow": null,
            "grid_auto_rows": null,
            "grid_column": null,
            "grid_gap": null,
            "grid_row": null,
            "grid_template_areas": null,
            "grid_template_columns": null,
            "grid_template_rows": null,
            "height": null,
            "justify_content": null,
            "justify_items": null,
            "left": null,
            "margin": null,
            "max_height": null,
            "max_width": null,
            "min_height": null,
            "min_width": null,
            "object_fit": null,
            "object_position": null,
            "order": null,
            "overflow": null,
            "overflow_x": null,
            "overflow_y": null,
            "padding": null,
            "right": null,
            "top": null,
            "visibility": null,
            "width": null
          }
        },
        "6d2b6347101d4cd1b1fa3b3d7251593e": {
          "model_module": "@jupyter-widgets/controls",
          "model_name": "ProgressStyleModel",
          "model_module_version": "1.5.0",
          "state": {
            "_model_module": "@jupyter-widgets/controls",
            "_model_module_version": "1.5.0",
            "_model_name": "ProgressStyleModel",
            "_view_count": null,
            "_view_module": "@jupyter-widgets/base",
            "_view_module_version": "1.2.0",
            "_view_name": "StyleView",
            "bar_color": null,
            "description_width": ""
          }
        },
        "81eb1cd81ce94bbd932b4f17d7cd2d16": {
          "model_module": "@jupyter-widgets/base",
          "model_name": "LayoutModel",
          "model_module_version": "1.2.0",
          "state": {
            "_model_module": "@jupyter-widgets/base",
            "_model_module_version": "1.2.0",
            "_model_name": "LayoutModel",
            "_view_count": null,
            "_view_module": "@jupyter-widgets/base",
            "_view_module_version": "1.2.0",
            "_view_name": "LayoutView",
            "align_content": null,
            "align_items": null,
            "align_self": null,
            "border": null,
            "bottom": null,
            "display": null,
            "flex": null,
            "flex_flow": null,
            "grid_area": null,
            "grid_auto_columns": null,
            "grid_auto_flow": null,
            "grid_auto_rows": null,
            "grid_column": null,
            "grid_gap": null,
            "grid_row": null,
            "grid_template_areas": null,
            "grid_template_columns": null,
            "grid_template_rows": null,
            "height": null,
            "justify_content": null,
            "justify_items": null,
            "left": null,
            "margin": null,
            "max_height": null,
            "max_width": null,
            "min_height": null,
            "min_width": null,
            "object_fit": null,
            "object_position": null,
            "order": null,
            "overflow": null,
            "overflow_x": null,
            "overflow_y": null,
            "padding": null,
            "right": null,
            "top": null,
            "visibility": null,
            "width": null
          }
        },
        "56fad82b80f1450981d3f2b022443202": {
          "model_module": "@jupyter-widgets/controls",
          "model_name": "DescriptionStyleModel",
          "model_module_version": "1.5.0",
          "state": {
            "_model_module": "@jupyter-widgets/controls",
            "_model_module_version": "1.5.0",
            "_model_name": "DescriptionStyleModel",
            "_view_count": null,
            "_view_module": "@jupyter-widgets/base",
            "_view_module_version": "1.2.0",
            "_view_name": "StyleView",
            "description_width": ""
          }
        }
      }
    }
  },
  "cells": [
    {
      "cell_type": "markdown",
      "source": [
        "#Finish the same task as we did on Day 1, instead of using pipeline, let's do it from tokenizer to model, and analyze the vanilla output from scratch."
      ],
      "metadata": {
        "id": "vdqrl7hECRoZ"
      }
    },
    {
      "cell_type": "code",
      "execution_count": null,
      "metadata": {
        "colab": {
          "base_uri": "https://localhost:8080/"
        },
        "id": "enL-WnAObd2F",
        "outputId": "25e3884b-71ba-4b42-a704-f2b61df49515"
      },
      "outputs": [
        {
          "output_type": "stream",
          "name": "stdout",
          "text": [
            "Looking in indexes: https://pypi.org/simple, https://us-python.pkg.dev/colab-wheels/public/simple/\n",
            "Collecting datasets\n",
            "  Downloading datasets-2.4.0-py3-none-any.whl (365 kB)\n",
            "\u001b[K     |████████████████████████████████| 365 kB 4.2 MB/s \n",
            "\u001b[?25hCollecting evaluate\n",
            "  Downloading evaluate-0.2.2-py3-none-any.whl (69 kB)\n",
            "\u001b[K     |████████████████████████████████| 69 kB 6.8 MB/s \n",
            "\u001b[?25hCollecting transformers[sentencepiece]\n",
            "  Downloading transformers-4.22.0-py3-none-any.whl (4.9 MB)\n",
            "\u001b[K     |████████████████████████████████| 4.9 MB 50.9 MB/s \n",
            "\u001b[?25hRequirement already satisfied: aiohttp in /usr/local/lib/python3.7/dist-packages (from datasets) (3.8.1)\n",
            "Requirement already satisfied: pyarrow>=6.0.0 in /usr/local/lib/python3.7/dist-packages (from datasets) (6.0.1)\n",
            "Collecting huggingface-hub<1.0.0,>=0.1.0\n",
            "  Downloading huggingface_hub-0.9.1-py3-none-any.whl (120 kB)\n",
            "\u001b[K     |████████████████████████████████| 120 kB 70.5 MB/s \n",
            "\u001b[?25hRequirement already satisfied: packaging in /usr/local/lib/python3.7/dist-packages (from datasets) (21.3)\n",
            "Collecting xxhash\n",
            "  Downloading xxhash-3.0.0-cp37-cp37m-manylinux_2_17_x86_64.manylinux2014_x86_64.whl (212 kB)\n",
            "\u001b[K     |████████████████████████████████| 212 kB 66.9 MB/s \n",
            "\u001b[?25hRequirement already satisfied: fsspec[http]>=2021.11.1 in /usr/local/lib/python3.7/dist-packages (from datasets) (2022.8.2)\n",
            "Requirement already satisfied: numpy>=1.17 in /usr/local/lib/python3.7/dist-packages (from datasets) (1.21.6)\n",
            "Requirement already satisfied: pandas in /usr/local/lib/python3.7/dist-packages (from datasets) (1.3.5)\n",
            "Collecting responses<0.19\n",
            "  Downloading responses-0.18.0-py3-none-any.whl (38 kB)\n",
            "Requirement already satisfied: dill<0.3.6 in /usr/local/lib/python3.7/dist-packages (from datasets) (0.3.5.1)\n",
            "Requirement already satisfied: importlib-metadata in /usr/local/lib/python3.7/dist-packages (from datasets) (4.12.0)\n",
            "Requirement already satisfied: requests>=2.19.0 in /usr/local/lib/python3.7/dist-packages (from datasets) (2.23.0)\n",
            "Collecting multiprocess\n",
            "  Downloading multiprocess-0.70.13-py37-none-any.whl (115 kB)\n",
            "\u001b[K     |████████████████████████████████| 115 kB 43.9 MB/s \n",
            "\u001b[?25hRequirement already satisfied: tqdm>=4.62.1 in /usr/local/lib/python3.7/dist-packages (from datasets) (4.64.1)\n",
            "Requirement already satisfied: asynctest==0.13.0 in /usr/local/lib/python3.7/dist-packages (from aiohttp->datasets) (0.13.0)\n",
            "Requirement already satisfied: multidict<7.0,>=4.5 in /usr/local/lib/python3.7/dist-packages (from aiohttp->datasets) (6.0.2)\n",
            "Requirement already satisfied: attrs>=17.3.0 in /usr/local/lib/python3.7/dist-packages (from aiohttp->datasets) (22.1.0)\n",
            "Requirement already satisfied: aiosignal>=1.1.2 in /usr/local/lib/python3.7/dist-packages (from aiohttp->datasets) (1.2.0)\n",
            "Requirement already satisfied: typing-extensions>=3.7.4 in /usr/local/lib/python3.7/dist-packages (from aiohttp->datasets) (4.1.1)\n",
            "Requirement already satisfied: frozenlist>=1.1.1 in /usr/local/lib/python3.7/dist-packages (from aiohttp->datasets) (1.3.1)\n",
            "Requirement already satisfied: charset-normalizer<3.0,>=2.0 in /usr/local/lib/python3.7/dist-packages (from aiohttp->datasets) (2.1.1)\n",
            "Requirement already satisfied: async-timeout<5.0,>=4.0.0a3 in /usr/local/lib/python3.7/dist-packages (from aiohttp->datasets) (4.0.2)\n",
            "Requirement already satisfied: yarl<2.0,>=1.0 in /usr/local/lib/python3.7/dist-packages (from aiohttp->datasets) (1.8.1)\n",
            "Requirement already satisfied: pyyaml>=5.1 in /usr/local/lib/python3.7/dist-packages (from huggingface-hub<1.0.0,>=0.1.0->datasets) (6.0)\n",
            "Requirement already satisfied: filelock in /usr/local/lib/python3.7/dist-packages (from huggingface-hub<1.0.0,>=0.1.0->datasets) (3.8.0)\n",
            "Requirement already satisfied: pyparsing!=3.0.5,>=2.0.2 in /usr/local/lib/python3.7/dist-packages (from packaging->datasets) (3.0.9)\n",
            "Requirement already satisfied: idna<3,>=2.5 in /usr/local/lib/python3.7/dist-packages (from requests>=2.19.0->datasets) (2.10)\n",
            "Requirement already satisfied: urllib3!=1.25.0,!=1.25.1,<1.26,>=1.21.1 in /usr/local/lib/python3.7/dist-packages (from requests>=2.19.0->datasets) (1.24.3)\n",
            "Requirement already satisfied: certifi>=2017.4.17 in /usr/local/lib/python3.7/dist-packages (from requests>=2.19.0->datasets) (2022.6.15)\n",
            "Requirement already satisfied: chardet<4,>=3.0.2 in /usr/local/lib/python3.7/dist-packages (from requests>=2.19.0->datasets) (3.0.4)\n",
            "Collecting urllib3!=1.25.0,!=1.25.1,<1.26,>=1.21.1\n",
            "  Downloading urllib3-1.25.11-py2.py3-none-any.whl (127 kB)\n",
            "\u001b[K     |████████████████████████████████| 127 kB 22.2 MB/s \n",
            "\u001b[?25hRequirement already satisfied: zipp>=0.5 in /usr/local/lib/python3.7/dist-packages (from importlib-metadata->datasets) (3.8.1)\n",
            "Requirement already satisfied: pytz>=2017.3 in /usr/local/lib/python3.7/dist-packages (from pandas->datasets) (2022.2.1)\n",
            "Requirement already satisfied: python-dateutil>=2.7.3 in /usr/local/lib/python3.7/dist-packages (from pandas->datasets) (2.8.2)\n",
            "Requirement already satisfied: six>=1.5 in /usr/local/lib/python3.7/dist-packages (from python-dateutil>=2.7.3->pandas->datasets) (1.15.0)\n",
            "Collecting tokenizers!=0.11.3,<0.13,>=0.11.1\n",
            "  Downloading tokenizers-0.12.1-cp37-cp37m-manylinux_2_12_x86_64.manylinux2010_x86_64.whl (6.6 MB)\n",
            "\u001b[K     |████████████████████████████████| 6.6 MB 52.4 MB/s \n",
            "\u001b[?25hRequirement already satisfied: regex!=2019.12.17 in /usr/local/lib/python3.7/dist-packages (from transformers[sentencepiece]) (2022.6.2)\n",
            "Collecting sentencepiece!=0.1.92,>=0.1.91\n",
            "  Downloading sentencepiece-0.1.97-cp37-cp37m-manylinux_2_17_x86_64.manylinux2014_x86_64.whl (1.3 MB)\n",
            "\u001b[K     |████████████████████████████████| 1.3 MB 40.5 MB/s \n",
            "\u001b[?25hRequirement already satisfied: protobuf<=3.20.1 in /usr/local/lib/python3.7/dist-packages (from transformers[sentencepiece]) (3.17.3)\n",
            "Installing collected packages: urllib3, xxhash, tokenizers, responses, multiprocess, huggingface-hub, transformers, sentencepiece, datasets, evaluate\n",
            "  Attempting uninstall: urllib3\n",
            "    Found existing installation: urllib3 1.24.3\n",
            "    Uninstalling urllib3-1.24.3:\n",
            "      Successfully uninstalled urllib3-1.24.3\n",
            "Successfully installed datasets-2.4.0 evaluate-0.2.2 huggingface-hub-0.9.1 multiprocess-0.70.13 responses-0.18.0 sentencepiece-0.1.97 tokenizers-0.12.1 transformers-4.22.0 urllib3-1.25.11 xxhash-3.0.0\n"
          ]
        }
      ],
      "source": [
        "!pip install datasets evaluate transformers[sentencepiece]"
      ]
    },
    {
      "cell_type": "code",
      "execution_count": null,
      "metadata": {
        "id": "gemxGqU9bg_W",
        "colab": {
          "base_uri": "https://localhost:8080/",
          "height": 105,
          "referenced_widgets": [
            "8ffad614b9674af69e43a8f767cd6fc0",
            "6d7e06acba7540968a4526098c80bb87",
            "6cf866b7351d4609bc7cd935d4584f92",
            "2fe758994d174326acec3c0877f075a3",
            "7423534e52ef4b6da3cfa4f44d685d6c",
            "aeac91f6589d4b7eafa4c04351b38500",
            "58894cfe41d444e4806f866e2e79d55c",
            "64913bc914f74e1c81e86d287794a3cd",
            "5a1436448d314847bf3aa2f2d641846e",
            "842b60b34d3243529eb196e2ec28b56d",
            "4e7cc156aa7f430c9631ecead1c8cfca"
          ]
        },
        "outputId": "5cc4a860-25ef-4130-f026-79710a3f04dd"
      },
      "outputs": [
        {
          "output_type": "stream",
          "name": "stderr",
          "text": [
            "The cache for model files in Transformers v4.22.0 has been updated. Migrating your old cache. This is a one-time only operation. You can interrupt this and resume the migration later on by calling `transformers.utils.move_cache()`.\n"
          ]
        },
        {
          "output_type": "stream",
          "name": "stdout",
          "text": [
            "Moving 0 files to the new cache system\n"
          ]
        },
        {
          "output_type": "display_data",
          "data": {
            "text/plain": [
              "0it [00:00, ?it/s]"
            ],
            "application/vnd.jupyter.widget-view+json": {
              "version_major": 2,
              "version_minor": 0,
              "model_id": "8ffad614b9674af69e43a8f767cd6fc0"
            }
          },
          "metadata": {}
        }
      ],
      "source": [
        "from transformers import pipeline"
      ]
    },
    {
      "cell_type": "code",
      "execution_count": null,
      "metadata": {
        "colab": {
          "base_uri": "https://localhost:8080/",
          "height": 218,
          "referenced_widgets": [
            "5af04a9b76804044b78d610acb4a5217",
            "635f29c5688e4d619fb1055175656929",
            "1b1a1dea5224422088a56ff1ab2abaf4",
            "70745e63df534049bbc9df93b7c1cc47",
            "618b04f624f1424b8f23c90ff147c12e",
            "d8316587a60c4e5fbefcfcab00cf62fb",
            "fb648be7df4643c99731fb6924bf4a81",
            "b5b3c76085884516920c139342929ba3",
            "152ad30ff980423e87497124d998795b",
            "d2aee8148e17464681d75f632e54fe72",
            "24a87091d2dd4d68a32412b62ec72529",
            "0b18b986306844708b083ff7f97c18be",
            "1fff0ac684b548b7b7a3fa5be9494040",
            "db188335cbab4f9c92e2e71f46ea5ad8",
            "094fe0c5767047aa8787a295778c1e3c",
            "a8516f9564b347888196544f4c056a0f",
            "d6e3a9c4824743fdad6c21aceafb1907",
            "2cd905d2486148aa88401fc6e4fc4551",
            "c3e78bf58fe14408a2d07a1a4ba75683",
            "c375de0858304c7e9a455b58b3d4b281",
            "b9024252c21c4c78ac8010c187e1214b",
            "e3a4c6f65f6140e889bdd7e99da6844c",
            "b501f34a8fee4c99a530b5f4931f7e9e",
            "d6acfd12812b47d8bfd020b43896abf5",
            "510a6d5d2717419b843efb2e52d9d9bd",
            "a022b404f91c4310b9b275d51d5ad8ea",
            "b3da92585dab49abb24543bf75508a69",
            "5fbc551a6732415a8021e6abbeab8c07",
            "0a296983dfb44f75a2daa61d4ce6a1a2",
            "e6e82740606243edbee86a0ff60a3437",
            "2594e005896b4928866ec1557115b370",
            "bdc9f42f86af4503988714e9543edde1",
            "ad4b4aefe2d64dac97a8aaba0e3abf21",
            "d983f37fce5a4e5dadb78154a0a7a447",
            "59057d8e0b8247d5964d81af2b5c852a",
            "30e3773aa2d845d2b653bda9b7a9f470",
            "b0f0272a3cb245f9b032b4095634f277",
            "8fedaa7fe1724c6b98846e3feb0e32fc",
            "e1452ed1762a4c029348bafb5fb2c3b3",
            "ceb2bb1867ea46f6934e4ffc01892156",
            "3488c1af1b0d4c0084ce9a2ee141bf31",
            "6d2b6347101d4cd1b1fa3b3d7251593e",
            "81eb1cd81ce94bbd932b4f17d7cd2d16",
            "56fad82b80f1450981d3f2b022443202"
          ]
        },
        "id": "BWShgDmLbjrX",
        "outputId": "71cffc7f-50ad-4f71-b1d1-f54d837fb9af"
      },
      "outputs": [
        {
          "output_type": "stream",
          "name": "stderr",
          "text": [
            "No model was supplied, defaulted to distilbert-base-uncased-finetuned-sst-2-english and revision af0f99b (https://huggingface.co/distilbert-base-uncased-finetuned-sst-2-english).\n",
            "Using a pipeline without specifying a model name and revision in production is not recommended.\n"
          ]
        },
        {
          "output_type": "display_data",
          "data": {
            "text/plain": [
              "Downloading:   0%|          | 0.00/629 [00:00<?, ?B/s]"
            ],
            "application/vnd.jupyter.widget-view+json": {
              "version_major": 2,
              "version_minor": 0,
              "model_id": "5af04a9b76804044b78d610acb4a5217"
            }
          },
          "metadata": {}
        },
        {
          "output_type": "display_data",
          "data": {
            "text/plain": [
              "Downloading:   0%|          | 0.00/268M [00:00<?, ?B/s]"
            ],
            "application/vnd.jupyter.widget-view+json": {
              "version_major": 2,
              "version_minor": 0,
              "model_id": "0b18b986306844708b083ff7f97c18be"
            }
          },
          "metadata": {}
        },
        {
          "output_type": "display_data",
          "data": {
            "text/plain": [
              "Downloading:   0%|          | 0.00/48.0 [00:00<?, ?B/s]"
            ],
            "application/vnd.jupyter.widget-view+json": {
              "version_major": 2,
              "version_minor": 0,
              "model_id": "b501f34a8fee4c99a530b5f4931f7e9e"
            }
          },
          "metadata": {}
        },
        {
          "output_type": "display_data",
          "data": {
            "text/plain": [
              "Downloading:   0%|          | 0.00/232k [00:00<?, ?B/s]"
            ],
            "application/vnd.jupyter.widget-view+json": {
              "version_major": 2,
              "version_minor": 0,
              "model_id": "d983f37fce5a4e5dadb78154a0a7a447"
            }
          },
          "metadata": {}
        },
        {
          "output_type": "execute_result",
          "data": {
            "text/plain": [
              "[{'label': 'POSITIVE', 'score': 0.9598049521446228}]"
            ]
          },
          "metadata": {},
          "execution_count": 3
        }
      ],
      "source": [
        "classifier = pipeline(\"sentiment-analysis\")\n",
        "classifier(\"I've been waiting for a HuggingFace course my whole life.\")"
      ]
    },
    {
      "cell_type": "code",
      "execution_count": null,
      "metadata": {
        "id": "xokBmWPYbvLh"
      },
      "outputs": [],
      "source": [
        "Q1_text = \"Eighteen years have gone by, and still I can bring back every detail of that day in the meadow. Washed clean of summer’s dust by days of gentle rain, the mountains wore a deep, brilliant green. The October breeze set white fronds of head-tall grasses swaying. One long streak of cloud hung pasted across a dome of frozen blue. It almost hurt to look at that faroff sky. A puff of wind swept across the meadow and through her hair before it slipped into the woods to rustle branches and send back snatches of distant barking-a hazy sound that seemed to reach us from the doorway to another world. We heard no other sounds. We met no other people. We saw only two bright, red birds leap startled from the center of the meadow and dart into the woods. As we ambled along, Naoko spoke to me of wells. Memory is a funny thing. When I was in the scene, I hardly paid it any mind. I never stopped to think of it as something that would make a lasting impression, certainly never imagined that eighteen years later I would recall it in such detail. I didn’t give a damn about the scenery that day. I was thinking about myself. I was thinking about the beautiful girl walking next to me. I was thinking about the two of us together, and then about myself again. It was the age, that time of life when every sight, every feeling, every thought came back, like a boomerang, to me. And worse, I was in love. Love with complications. Scenery was the last thing on my mind. Now, though, that meadow scene is the first thing that comes back to me. The smell of the grass, the faint chill of the wind, the line of the hills, the barking of a dog: these are the first things, and they come with absolute clarity. I feel as if I can reach out and trace them with a fingertip. And yet, as clear as the scene may be, no one is in it. No one. Naoko is not there, and neither am I. Where could we have disappeared to? How could such a thing have happened? Everything that seemed so important back then-Naoko, and the self I was then, and the world I had then: where could they have all gone? It’s true, I can’t even bring back Naoko’s face-not right away, at least. All I’m left holding is a background, sheer scenery, with no people up front.\""
      ]
    },
    {
      "cell_type": "code",
      "execution_count": null,
      "metadata": {
        "id": "FMemjfAYcaoV",
        "colab": {
          "base_uri": "https://localhost:8080/"
        },
        "outputId": "128343d5-9a8b-4697-f7b9-c21886ca2303"
      },
      "outputs": [
        {
          "output_type": "stream",
          "name": "stderr",
          "text": [
            "[nltk_data] Downloading package punkt to /root/nltk_data...\n",
            "[nltk_data]   Unzipping tokenizers/punkt.zip.\n"
          ]
        },
        {
          "output_type": "execute_result",
          "data": {
            "text/plain": [
              "True"
            ]
          },
          "metadata": {},
          "execution_count": 5
        }
      ],
      "source": [
        "import nltk\n",
        "from nltk import tokenize\n",
        "nltk.download('punkt')"
      ]
    },
    {
      "cell_type": "code",
      "execution_count": null,
      "metadata": {
        "id": "GmCQv_Tvcijr"
      },
      "outputs": [],
      "source": [
        "Q1_sentence_nltk = tokenize.sent_tokenize(Q1_text)"
      ]
    },
    {
      "cell_type": "code",
      "execution_count": null,
      "metadata": {
        "colab": {
          "base_uri": "https://localhost:8080/"
        },
        "id": "_zlLi-OTfgMh",
        "outputId": "3c27fc46-2f8b-4e18-aff5-fafa052b84aa"
      },
      "outputs": [
        {
          "output_type": "execute_result",
          "data": {
            "text/plain": [
              "['Eighteen years have gone by, and still I can bring back every detail of that day in the meadow.',\n",
              " 'Washed clean of summer’s dust by days of gentle rain, the mountains wore a deep, brilliant green.',\n",
              " 'The October breeze set white fronds of head-tall grasses swaying.',\n",
              " 'One long streak of cloud hung pasted across a dome of frozen blue.',\n",
              " 'It almost hurt to look at that faroff sky.',\n",
              " 'A puff of wind swept across the meadow and through her hair before it slipped into the woods to rustle branches and send back snatches of distant barking-a hazy sound that seemed to reach us from the doorway to another world.',\n",
              " 'We heard no other sounds.',\n",
              " 'We met no other people.',\n",
              " 'We saw only two bright, red birds leap startled from the center of the meadow and dart into the woods.',\n",
              " 'As we ambled along, Naoko spoke to me of wells.',\n",
              " 'Memory is a funny thing.',\n",
              " 'When I was in the scene, I hardly paid it any mind.',\n",
              " 'I never stopped to think of it as something that would make a lasting impression, certainly never imagined that eighteen years later I would recall it in such detail.',\n",
              " 'I didn’t give a damn about the scenery that day.',\n",
              " 'I was thinking about myself.',\n",
              " 'I was thinking about the beautiful girl walking next to me.',\n",
              " 'I was thinking about the two of us together, and then about myself again.',\n",
              " 'It was the age, that time of life when every sight, every feeling, every thought came back, like a boomerang, to me.',\n",
              " 'And worse, I was in love.',\n",
              " 'Love with complications.',\n",
              " 'Scenery was the last thing on my mind.',\n",
              " 'Now, though, that meadow scene is the first thing that comes back to me.',\n",
              " 'The smell of the grass, the faint chill of the wind, the line of the hills, the barking of a dog: these are the first things, and they come with absolute clarity.',\n",
              " 'I feel as if I can reach out and trace them with a fingertip.',\n",
              " 'And yet, as clear as the scene may be, no one is in it.',\n",
              " 'No one.',\n",
              " 'Naoko is not there, and neither am I.',\n",
              " 'Where could we have disappeared to?',\n",
              " 'How could such a thing have happened?',\n",
              " 'Everything that seemed so important back then-Naoko, and the self I was then, and the world I had then: where could they have all gone?',\n",
              " 'It’s true, I can’t even bring back Naoko’s face-not right away, at least.',\n",
              " 'All I’m left holding is a background, sheer scenery, with no people up front.']"
            ]
          },
          "metadata": {},
          "execution_count": 7
        }
      ],
      "source": [
        "Q1_sentence_nltk"
      ]
    },
    {
      "cell_type": "code",
      "source": [
        "from transformers import AutoTokenizer\n",
        "\n",
        "checkpoint = \"distilbert-base-uncased-finetuned-sst-2-english\"\n",
        "tokenizer = AutoTokenizer.from_pretrained(checkpoint)"
      ],
      "metadata": {
        "id": "gPW9P-tAkpT5"
      },
      "execution_count": null,
      "outputs": []
    },
    {
      "cell_type": "code",
      "source": [
        "inputs = tokenizer(Q1_sentence_nltk, padding=True, truncation=True, return_tensors=\"pt\")\n",
        "print(inputs)"
      ],
      "metadata": {
        "colab": {
          "base_uri": "https://localhost:8080/"
        },
        "id": "TNTZD5hNkPRu",
        "outputId": "01cba955-093f-480f-c98b-d2209b76f45b"
      },
      "execution_count": null,
      "outputs": [
        {
          "output_type": "stream",
          "name": "stdout",
          "text": [
            "{'input_ids': tensor([[ 101, 7763, 2086,  ...,    0,    0,    0],\n",
            "        [ 101, 8871, 4550,  ...,    0,    0,    0],\n",
            "        [ 101, 1996, 2255,  ...,    0,    0,    0],\n",
            "        ...,\n",
            "        [ 101, 2673, 2008,  ...,    0,    0,    0],\n",
            "        [ 101, 2009, 1521,  ...,    0,    0,    0],\n",
            "        [ 101, 2035, 1045,  ...,    0,    0,    0]]), 'attention_mask': tensor([[1, 1, 1,  ..., 0, 0, 0],\n",
            "        [1, 1, 1,  ..., 0, 0, 0],\n",
            "        [1, 1, 1,  ..., 0, 0, 0],\n",
            "        ...,\n",
            "        [1, 1, 1,  ..., 0, 0, 0],\n",
            "        [1, 1, 1,  ..., 0, 0, 0],\n",
            "        [1, 1, 1,  ..., 0, 0, 0]])}\n"
          ]
        }
      ]
    },
    {
      "cell_type": "code",
      "source": [
        "inputs[\"input_ids\"].shape"
      ],
      "metadata": {
        "colab": {
          "base_uri": "https://localhost:8080/"
        },
        "id": "OdPSLBTo5Hli",
        "outputId": "c62001ec-0859-4c01-bd91-035e468545bd"
      },
      "execution_count": null,
      "outputs": [
        {
          "output_type": "execute_result",
          "data": {
            "text/plain": [
              "torch.Size([32, 48])"
            ]
          },
          "metadata": {},
          "execution_count": 10
        }
      ]
    },
    {
      "cell_type": "markdown",
      "source": [
        "Why is it 32*48?"
      ],
      "metadata": {
        "id": "TZ4R3fpvVkTV"
      }
    },
    {
      "cell_type": "code",
      "source": [
        "print(max(Q1_sentence_nltk, key=len))\n",
        "print(len(max(Q1_sentence_nltk, key=len).split(\" \")))"
      ],
      "metadata": {
        "colab": {
          "base_uri": "https://localhost:8080/"
        },
        "id": "fT8YZGto0jmS",
        "outputId": "2800150e-bcc4-480b-d7ef-439efc8efd56"
      },
      "execution_count": null,
      "outputs": [
        {
          "output_type": "stream",
          "name": "stdout",
          "text": [
            "A puff of wind swept across the meadow and through her hair before it slipped into the woods to rustle branches and send back snatches of distant barking-a hazy sound that seemed to reach us from the doorway to another world.\n",
            "41\n"
          ]
        }
      ]
    },
    {
      "cell_type": "code",
      "source": [
        "max_sentence = \"A puff of wind swept across the meadow and through her hair before it slipped into the woods to rustle branches and send back snatches of distant barking-a hazy sound that seemed to reach us from the doorway to another world.\"\n",
        "tokens = tokenizer.tokenize(max_sentence)\n",
        "\n",
        "print(tokens)\n",
        "print(len(tokens))\n",
        "max_input = tokenizer(max_sentence)\n",
        "print(max_input)\n",
        "print(len(max_input.input_ids))"
      ],
      "metadata": {
        "colab": {
          "base_uri": "https://localhost:8080/"
        },
        "id": "G3dLbRNM4t2k",
        "outputId": "fd307c9b-ab6b-459d-bc65-4785419011f1"
      },
      "execution_count": null,
      "outputs": [
        {
          "output_type": "stream",
          "name": "stdout",
          "text": [
            "['a', 'puff', 'of', 'wind', 'swept', 'across', 'the', 'meadow', 'and', 'through', 'her', 'hair', 'before', 'it', 'slipped', 'into', 'the', 'woods', 'to', 'rust', '##le', 'branches', 'and', 'send', 'back', 'snatch', '##es', 'of', 'distant', 'barking', '-', 'a', 'hazy', 'sound', 'that', 'seemed', 'to', 'reach', 'us', 'from', 'the', 'doorway', 'to', 'another', 'world', '.']\n",
            "46\n",
            "{'input_ids': [101, 1037, 23893, 1997, 3612, 7260, 2408, 1996, 13244, 1998, 2083, 2014, 2606, 2077, 2009, 5707, 2046, 1996, 5249, 2000, 18399, 2571, 5628, 1998, 4604, 2067, 23365, 2229, 1997, 6802, 19372, 1011, 1037, 26710, 2614, 2008, 2790, 2000, 3362, 2149, 2013, 1996, 7086, 2000, 2178, 2088, 1012, 102], 'attention_mask': [1, 1, 1, 1, 1, 1, 1, 1, 1, 1, 1, 1, 1, 1, 1, 1, 1, 1, 1, 1, 1, 1, 1, 1, 1, 1, 1, 1, 1, 1, 1, 1, 1, 1, 1, 1, 1, 1, 1, 1, 1, 1, 1, 1, 1, 1, 1, 1]}\n",
            "48\n"
          ]
        }
      ]
    },
    {
      "cell_type": "code",
      "source": [
        "ids = tokenizer.convert_tokens_to_ids(tokens)\n",
        "ids"
      ],
      "metadata": {
        "colab": {
          "base_uri": "https://localhost:8080/"
        },
        "id": "BnRTg6QB7ehJ",
        "outputId": "e6aa4231-4278-4323-f5a1-a3c01056ea84"
      },
      "execution_count": null,
      "outputs": [
        {
          "output_type": "execute_result",
          "data": {
            "text/plain": [
              "[1037,\n",
              " 23893,\n",
              " 1997,\n",
              " 3612,\n",
              " 7260,\n",
              " 2408,\n",
              " 1996,\n",
              " 13244,\n",
              " 1998,\n",
              " 2083,\n",
              " 2014,\n",
              " 2606,\n",
              " 2077,\n",
              " 2009,\n",
              " 5707,\n",
              " 2046,\n",
              " 1996,\n",
              " 5249,\n",
              " 2000,\n",
              " 18399,\n",
              " 2571,\n",
              " 5628,\n",
              " 1998,\n",
              " 4604,\n",
              " 2067,\n",
              " 23365,\n",
              " 2229,\n",
              " 1997,\n",
              " 6802,\n",
              " 19372,\n",
              " 1011,\n",
              " 1037,\n",
              " 26710,\n",
              " 2614,\n",
              " 2008,\n",
              " 2790,\n",
              " 2000,\n",
              " 3362,\n",
              " 2149,\n",
              " 2013,\n",
              " 1996,\n",
              " 7086,\n",
              " 2000,\n",
              " 2178,\n",
              " 2088,\n",
              " 1012]"
            ]
          },
          "metadata": {},
          "execution_count": 13
        }
      ]
    },
    {
      "cell_type": "code",
      "source": [
        "print(tokenizer.decode(max_input[\"input_ids\"]))\n",
        "print(tokenizer.decode(ids))"
      ],
      "metadata": {
        "colab": {
          "base_uri": "https://localhost:8080/"
        },
        "id": "S3CiE9nD7mhJ",
        "outputId": "a5bfcba1-877a-4be7-e2f4-2460e9805da0"
      },
      "execution_count": null,
      "outputs": [
        {
          "output_type": "stream",
          "name": "stdout",
          "text": [
            "[CLS] a puff of wind swept across the meadow and through her hair before it slipped into the woods to rustle branches and send back snatches of distant barking - a hazy sound that seemed to reach us from the doorway to another world. [SEP]\n",
            "a puff of wind swept across the meadow and through her hair before it slipped into the woods to rustle branches and send back snatches of distant barking - a hazy sound that seemed to reach us from the doorway to another world.\n"
          ]
        }
      ]
    },
    {
      "cell_type": "code",
      "source": [
        "from transformers import AutoModel\n",
        "\n",
        "checkpoint = \"distilbert-base-uncased-finetuned-sst-2-english\"\n",
        "model = AutoModel.from_pretrained(checkpoint)"
      ],
      "metadata": {
        "colab": {
          "base_uri": "https://localhost:8080/"
        },
        "id": "WcOBn7cFo6Yw",
        "outputId": "4ceb334a-250f-4fd7-f4e7-8aad6eade919"
      },
      "execution_count": null,
      "outputs": [
        {
          "output_type": "stream",
          "name": "stderr",
          "text": [
            "Some weights of the model checkpoint at distilbert-base-uncased-finetuned-sst-2-english were not used when initializing DistilBertModel: ['pre_classifier.weight', 'classifier.bias', 'classifier.weight', 'pre_classifier.bias']\n",
            "- This IS expected if you are initializing DistilBertModel from the checkpoint of a model trained on another task or with another architecture (e.g. initializing a BertForSequenceClassification model from a BertForPreTraining model).\n",
            "- This IS NOT expected if you are initializing DistilBertModel from the checkpoint of a model that you expect to be exactly identical (initializing a BertForSequenceClassification model from a BertForSequenceClassification model).\n"
          ]
        }
      ]
    },
    {
      "cell_type": "code",
      "source": [
        "outputs = model(**inputs)\n",
        "print(outputs.last_hidden_state.shape)"
      ],
      "metadata": {
        "colab": {
          "base_uri": "https://localhost:8080/"
        },
        "id": "5ZEZPsdrpAEj",
        "outputId": "d3aa1aff-a2a8-413a-863f-be4f97712350"
      },
      "execution_count": null,
      "outputs": [
        {
          "output_type": "stream",
          "name": "stdout",
          "text": [
            "torch.Size([32, 48, 768])\n"
          ]
        }
      ]
    },
    {
      "cell_type": "code",
      "source": [
        "from transformers import AutoModelForSequenceClassification\n",
        "\n",
        "checkpoint = \"distilbert-base-uncased-finetuned-sst-2-english\"\n",
        "model = AutoModelForSequenceClassification.from_pretrained(checkpoint)\n",
        "outputs = model(**inputs)"
      ],
      "metadata": {
        "id": "FIAM-07XpCBT"
      },
      "execution_count": null,
      "outputs": []
    },
    {
      "cell_type": "code",
      "source": [
        "print(outputs.logits.shape)"
      ],
      "metadata": {
        "colab": {
          "base_uri": "https://localhost:8080/"
        },
        "id": "u6HlB_zHpKDe",
        "outputId": "47cbd2d3-5928-4c07-85c6-fc53f1b3a1e2"
      },
      "execution_count": null,
      "outputs": [
        {
          "output_type": "stream",
          "name": "stdout",
          "text": [
            "torch.Size([32, 2])\n"
          ]
        }
      ]
    },
    {
      "cell_type": "code",
      "source": [
        "print(outputs.logits)"
      ],
      "metadata": {
        "colab": {
          "base_uri": "https://localhost:8080/"
        },
        "id": "A0wJutLfpM4F",
        "outputId": "80f90abc-d5e9-4d7d-d8ab-374e33ee8ce6"
      },
      "execution_count": null,
      "outputs": [
        {
          "output_type": "stream",
          "name": "stdout",
          "text": [
            "tensor([[-2.9097,  3.0603],\n",
            "        [-2.9906,  3.1538],\n",
            "        [-3.0856,  3.3513],\n",
            "        [ 0.5252, -0.3588],\n",
            "        [ 1.7268, -1.3978],\n",
            "        [-0.1638,  0.2964],\n",
            "        [ 2.4347, -1.9709],\n",
            "        [-1.5700,  1.5212],\n",
            "        [ 0.5479, -0.2465],\n",
            "        [-3.0891,  3.2033],\n",
            "        [-3.8900,  4.1634],\n",
            "        [ 4.2343, -3.4772],\n",
            "        [-3.5073,  3.6947],\n",
            "        [ 3.6969, -3.0664],\n",
            "        [-2.7650,  2.8711],\n",
            "        [-3.7879,  4.0219],\n",
            "        [-2.5296,  2.5948],\n",
            "        [-3.1700,  3.3370],\n",
            "        [ 2.3666, -1.9988],\n",
            "        [-3.8532,  4.0928],\n",
            "        [ 4.1809, -3.4629],\n",
            "        [-2.3029,  2.3895],\n",
            "        [-4.0548,  4.2781],\n",
            "        [-1.8823,  1.9305],\n",
            "        [ 3.0080, -2.4859],\n",
            "        [ 2.7569, -2.3052],\n",
            "        [ 3.5068, -2.8443],\n",
            "        [ 3.2776, -2.6787],\n",
            "        [ 3.4121, -2.7691],\n",
            "        [ 2.0810, -1.6311],\n",
            "        [-3.2181,  3.4149],\n",
            "        [ 0.7319, -0.5070]], grad_fn=<AddmmBackward0>)\n"
          ]
        }
      ]
    },
    {
      "cell_type": "code",
      "source": [
        "import torch\n",
        "\n",
        "predictions = torch.nn.functional.softmax(outputs.logits, dim=-1)\n",
        "print(predictions)"
      ],
      "metadata": {
        "colab": {
          "base_uri": "https://localhost:8080/"
        },
        "id": "YuHk50fnpuQv",
        "outputId": "39be4f52-7684-460a-c3d5-995688320172"
      },
      "execution_count": null,
      "outputs": [
        {
          "output_type": "stream",
          "name": "stdout",
          "text": [
            "tensor([[2.5478e-03, 9.9745e-01],\n",
            "        [2.1409e-03, 9.9786e-01],\n",
            "        [1.5987e-03, 9.9840e-01],\n",
            "        [7.0765e-01, 2.9235e-01],\n",
            "        [9.5789e-01, 4.2105e-02],\n",
            "        [3.8693e-01, 6.1307e-01],\n",
            "        [9.8794e-01, 1.2061e-02],\n",
            "        [4.3471e-02, 9.5653e-01],\n",
            "        [6.8877e-01, 3.1123e-01],\n",
            "        [1.8469e-03, 9.9815e-01],\n",
            "        [3.1792e-04, 9.9968e-01],\n",
            "        [9.9955e-01, 4.4744e-04],\n",
            "        [7.4454e-04, 9.9926e-01],\n",
            "        [9.9885e-01, 1.1541e-03],\n",
            "        [3.5544e-03, 9.9645e-01],\n",
            "        [4.0561e-04, 9.9959e-01],\n",
            "        [5.9148e-03, 9.9409e-01],\n",
            "        [1.4907e-03, 9.9851e-01],\n",
            "        [9.8745e-01, 1.2550e-02],\n",
            "        [3.5395e-04, 9.9965e-01],\n",
            "        [9.9952e-01, 4.7879e-04],\n",
            "        [9.0807e-03, 9.9092e-01],\n",
            "        [2.4041e-04, 9.9976e-01],\n",
            "        [2.1609e-02, 9.7839e-01],\n",
            "        [9.9591e-01, 4.0950e-03],\n",
            "        [9.9371e-01, 6.2927e-03],\n",
            "        [9.9826e-01, 1.7418e-03],\n",
            "        [9.9742e-01, 2.5827e-03],\n",
            "        [9.9794e-01, 2.0636e-03],\n",
            "        [9.7616e-01, 2.3845e-02],\n",
            "        [1.3146e-03, 9.9869e-01],\n",
            "        [7.7537e-01, 2.2463e-01]], grad_fn=<SoftmaxBackward0>)\n"
          ]
        }
      ]
    },
    {
      "cell_type": "code",
      "source": [
        "model.config.id2label"
      ],
      "metadata": {
        "colab": {
          "base_uri": "https://localhost:8080/"
        },
        "id": "AcbZ30IRpy34",
        "outputId": "31edc282-4805-4408-bdad-233d10b001aa"
      },
      "execution_count": null,
      "outputs": [
        {
          "output_type": "execute_result",
          "data": {
            "text/plain": [
              "{0: 'NEGATIVE', 1: 'POSITIVE'}"
            ]
          },
          "metadata": {},
          "execution_count": 22
        }
      ]
    },
    {
      "cell_type": "markdown",
      "source": [
        "###How to get the predicted label for each sentence?"
      ],
      "metadata": {
        "id": "Fc_y2-vL9Ziu"
      }
    },
    {
      "cell_type": "code",
      "source": [],
      "metadata": {
        "id": "m9RHsYcK9d_4"
      },
      "execution_count": null,
      "outputs": []
    },
    {
      "cell_type": "code",
      "source": [],
      "metadata": {
        "id": "TLY9-pD99eGv"
      },
      "execution_count": null,
      "outputs": []
    },
    {
      "cell_type": "code",
      "source": [],
      "metadata": {
        "id": "IwlGOw829eMJ"
      },
      "execution_count": null,
      "outputs": []
    },
    {
      "cell_type": "code",
      "source": [],
      "metadata": {
        "id": "QHF7uNe09ePA"
      },
      "execution_count": null,
      "outputs": []
    },
    {
      "cell_type": "code",
      "source": [],
      "metadata": {
        "id": "UXTVtFdT9eRn"
      },
      "execution_count": null,
      "outputs": []
    },
    {
      "cell_type": "code",
      "source": [],
      "metadata": {
        "id": "L1YXIWth9eUN"
      },
      "execution_count": null,
      "outputs": []
    },
    {
      "cell_type": "code",
      "source": [],
      "metadata": {
        "id": "o5M8rmIM9eWr"
      },
      "execution_count": null,
      "outputs": []
    },
    {
      "cell_type": "code",
      "source": [],
      "metadata": {
        "id": "ZHsAnnrl9eZS"
      },
      "execution_count": null,
      "outputs": []
    },
    {
      "cell_type": "code",
      "source": [
        "pred_labels = torch.argmax(predictions, dim=1)\n",
        "pred_labels"
      ],
      "metadata": {
        "id": "XxiE6IQGwHur",
        "colab": {
          "base_uri": "https://localhost:8080/"
        },
        "outputId": "5b5a2646-a49e-4bc4-9480-c4d1f4f1973c"
      },
      "execution_count": null,
      "outputs": [
        {
          "output_type": "execute_result",
          "data": {
            "text/plain": [
              "tensor([1, 1, 1, 0, 0, 1, 0, 1, 0, 1, 1, 0, 1, 0, 1, 1, 1, 1, 0, 1, 0, 1, 1, 1,\n",
              "        0, 0, 0, 0, 0, 0, 1, 0])"
            ]
          },
          "metadata": {},
          "execution_count": 23
        }
      ]
    },
    {
      "cell_type": "code",
      "source": [
        "pred_labels = predictions.max(1).indices\n",
        "print(pred_labels)"
      ],
      "metadata": {
        "colab": {
          "base_uri": "https://localhost:8080/"
        },
        "id": "2u-GkDF29cvq",
        "outputId": "4503806f-a3bf-4b77-aeec-65376120cb27"
      },
      "execution_count": null,
      "outputs": [
        {
          "output_type": "stream",
          "name": "stdout",
          "text": [
            "tensor([1, 1, 1, 0, 0, 1, 0, 1, 0, 1, 1, 0, 1, 0, 1, 1, 1, 1, 0, 1, 0, 1, 1, 1,\n",
            "        0, 0, 0, 0, 0, 0, 1, 0])\n"
          ]
        }
      ]
    },
    {
      "cell_type": "markdown",
      "source": [
        "### How to get the most positive and negative sentence in this paragraph?"
      ],
      "metadata": {
        "id": "0X0t59oW9hZg"
      }
    },
    {
      "cell_type": "code",
      "source": [],
      "metadata": {
        "id": "rd-OHUeH9m7T"
      },
      "execution_count": null,
      "outputs": []
    },
    {
      "cell_type": "code",
      "source": [],
      "metadata": {
        "id": "f_3alL4Y9m-R"
      },
      "execution_count": null,
      "outputs": []
    },
    {
      "cell_type": "code",
      "source": [],
      "metadata": {
        "id": "MflsTe2Y9nA_"
      },
      "execution_count": null,
      "outputs": []
    },
    {
      "cell_type": "code",
      "source": [],
      "metadata": {
        "id": "OGeavN349nDc"
      },
      "execution_count": null,
      "outputs": []
    },
    {
      "cell_type": "code",
      "source": [],
      "metadata": {
        "id": "vSMGMge09nGF"
      },
      "execution_count": null,
      "outputs": []
    },
    {
      "cell_type": "code",
      "source": [],
      "metadata": {
        "id": "ANzo4Fds9nIT"
      },
      "execution_count": null,
      "outputs": []
    },
    {
      "cell_type": "code",
      "source": [],
      "metadata": {
        "id": "MKadhElr9nK6"
      },
      "execution_count": null,
      "outputs": []
    },
    {
      "cell_type": "code",
      "source": [
        "pred_labels = predictions.max(0).indices\n",
        "print(pred_labels)\n",
        "print(Q1_sentence_nltk[int(pred_labels[0])])\n",
        "print(Q1_sentence_nltk[int(pred_labels[1])])"
      ],
      "metadata": {
        "colab": {
          "base_uri": "https://localhost:8080/"
        },
        "id": "BZkm4O3Y9rSY",
        "outputId": "444a3e97-7ead-47ef-a29b-fddfbd21ac63"
      },
      "execution_count": null,
      "outputs": [
        {
          "output_type": "stream",
          "name": "stdout",
          "text": [
            "tensor([11, 22])\n",
            "When I was in the scene, I hardly paid it any mind.\n",
            "The smell of the grass, the faint chill of the wind, the line of the hills, the barking of a dog: these are the first things, and they come with absolute clarity.\n"
          ]
        }
      ]
    },
    {
      "cell_type": "code",
      "source": [
        "most_score = predictions.max(0)\n",
        "most_score"
      ],
      "metadata": {
        "colab": {
          "base_uri": "https://localhost:8080/"
        },
        "id": "1wYVND3U_gvI",
        "outputId": "78d5822e-f5f9-4bdb-e887-70d4635c2028"
      },
      "execution_count": null,
      "outputs": [
        {
          "output_type": "execute_result",
          "data": {
            "text/plain": [
              "torch.return_types.max(\n",
              "values=tensor([0.9996, 0.9998], grad_fn=<MaxBackward0>),\n",
              "indices=tensor([11, 22]))"
            ]
          },
          "metadata": {},
          "execution_count": 26
        }
      ]
    },
    {
      "cell_type": "code",
      "execution_count": null,
      "metadata": {
        "id": "UUZY2g3mfAN6"
      },
      "outputs": [],
      "source": [
        "Q1_result = classifier(Q1_sentence_nltk)"
      ]
    },
    {
      "cell_type": "code",
      "execution_count": null,
      "metadata": {
        "colab": {
          "base_uri": "https://localhost:8080/"
        },
        "id": "QKfvi2yGfrqO",
        "outputId": "12587c07-efe1-4df2-f1f2-43ad5b83d951"
      },
      "outputs": [
        {
          "output_type": "stream",
          "name": "stdout",
          "text": [
            "POSITIVE 0.9974521994590759 Eighteen years have gone by, and still I can bring back every detail of that day in the meadow.\n",
            "POSITIVE 0.9978590607643127 Washed clean of summer’s dust by days of gentle rain, the mountains wore a deep, brilliant green.\n",
            "POSITIVE 0.9984012246131897 The October breeze set white fronds of head-tall grasses swaying.\n",
            "NEGATIVE 0.7076473832130432 One long streak of cloud hung pasted across a dome of frozen blue.\n",
            "NEGATIVE 0.957894504070282 It almost hurt to look at that faroff sky.\n",
            "POSITIVE 0.6130686402320862 A puff of wind swept across the meadow and through her hair before it slipped into the woods to rustle branches and send back snatches of distant barking-a hazy sound that seemed to reach us from the doorway to another world.\n",
            "NEGATIVE 0.9879387617111206 We heard no other sounds.\n",
            "POSITIVE 0.9565290808677673 We met no other people.\n",
            "NEGATIVE 0.6887699961662292 We saw only two bright, red birds leap startled from the center of the meadow and dart into the woods.\n",
            "POSITIVE 0.9981531500816345 As we ambled along, Naoko spoke to me of wells.\n",
            "POSITIVE 0.9996820688247681 Memory is a funny thing.\n",
            "NEGATIVE 0.9995525479316711 When I was in the scene, I hardly paid it any mind.\n",
            "POSITIVE 0.9992554783821106 I never stopped to think of it as something that would make a lasting impression, certainly never imagined that eighteen years later I would recall it in such detail.\n",
            "NEGATIVE 0.9988459348678589 I didn’t give a damn about the scenery that day.\n",
            "POSITIVE 0.9964455962181091 I was thinking about myself.\n",
            "POSITIVE 0.9995943903923035 I was thinking about the beautiful girl walking next to me.\n",
            "POSITIVE 0.9940851926803589 I was thinking about the two of us together, and then about myself again.\n",
            "POSITIVE 0.9985093474388123 It was the age, that time of life when every sight, every feeling, every thought came back, like a boomerang, to me.\n",
            "NEGATIVE 0.987450122833252 And worse, I was in love.\n",
            "POSITIVE 0.9996460676193237 Love with complications.\n",
            "NEGATIVE 0.9995212554931641 Scenery was the last thing on my mind.\n",
            "POSITIVE 0.9909192323684692 Now, though, that meadow scene is the first thing that comes back to me.\n",
            "POSITIVE 0.9997596144676208 The smell of the grass, the faint chill of the wind, the line of the hills, the barking of a dog: these are the first things, and they come with absolute clarity.\n",
            "POSITIVE 0.9783908724784851 I feel as if I can reach out and trace them with a fingertip.\n",
            "NEGATIVE 0.9959050416946411 And yet, as clear as the scene may be, no one is in it.\n",
            "NEGATIVE 0.9937073588371277 No one.\n",
            "NEGATIVE 0.9982581734657288 Naoko is not there, and neither am I.\n",
            "NEGATIVE 0.9974173307418823 Where could we have disappeared to?\n",
            "NEGATIVE 0.9979363679885864 How could such a thing have happened?\n",
            "NEGATIVE 0.976155161857605 Everything that seemed so important back then-Naoko, and the self I was then, and the world I had then: where could they have all gone?\n",
            "POSITIVE 0.9986854195594788 It’s true, I can’t even bring back Naoko’s face-not right away, at least.\n",
            "NEGATIVE 0.7753749489784241 All I’m left holding is a background, sheer scenery, with no people up front.\n",
            "positive_most_sent:  The smell of the grass, the faint chill of the wind, the line of the hills, the barking of a dog: these are the first things, and they come with absolute clarity.\n",
            "positive score:  0.9997596144676208\n",
            "negative_most_sent:  When I was in the scene, I hardly paid it any mind.\n",
            "negative score:  0.9995525479316711\n"
          ]
        }
      ],
      "source": [
        "positive_most_score = 0\n",
        "positive_most_sent = ''\n",
        "negative_most_score = 0\n",
        "negative_most_sent = ''\n",
        "for i in range(len(Q1_sentence_nltk)):\n",
        "  current_result = Q1_result[i]\n",
        "  current_label = current_result[\"label\"]\n",
        "  current_score = current_result[\"score\"]\n",
        "  current_sentence = Q1_sentence_nltk[i]\n",
        "  print(current_label,current_score,current_sentence)\n",
        "  if current_label == \"POSITIVE\":\n",
        "    if current_score >  positive_most_score:\n",
        "      positive_most_sent = current_sentence\n",
        "      positive_most_score = current_score\n",
        "  if current_label == \"NEGATIVE\":\n",
        "    if current_score >  negative_most_score:\n",
        "      negative_most_sent = current_sentence\n",
        "      negative_most_score = current_score \n",
        "print(\"positive_most_sent: \", positive_most_sent) \n",
        "print(\"positive score: \", positive_most_score)\n",
        "print(\"negative_most_sent: \", negative_most_sent)\n",
        "print(\"negative score: \", negative_most_score)\n"
      ]
    },
    {
      "cell_type": "markdown",
      "source": [
        "#Finish the same task as **above**, instead of using the tokenizer directly, do tokenize, convert tokens into token_ids, add start and end token, do padding and generate attention mask by your own."
      ],
      "metadata": {
        "id": "vEZfQ220Cg11"
      }
    },
    {
      "cell_type": "markdown",
      "source": [
        "## What should we do to process a single sentence?"
      ],
      "metadata": {
        "id": "ajZifxDBPLzb"
      }
    },
    {
      "cell_type": "code",
      "source": [
        "tokens_sent1 = tokenizer.tokenize(Q1_sentence_nltk[0])\n",
        "  # output = tokenizer(sent)\n",
        "\n",
        "print(tokens_sent1)\n",
        "print(len(tokens_sent1))\n",
        "# print(output)"
      ],
      "metadata": {
        "colab": {
          "base_uri": "https://localhost:8080/"
        },
        "outputId": "068fa4e8-1a56-4e12-bca3-3de5c6aa6c23",
        "id": "qryEZEqKFann"
      },
      "execution_count": null,
      "outputs": [
        {
          "output_type": "stream",
          "name": "stdout",
          "text": [
            "['eighteen', 'years', 'have', 'gone', 'by', ',', 'and', 'still', 'i', 'can', 'bring', 'back', 'every', 'detail', 'of', 'that', 'day', 'in', 'the', 'meadow', '.']\n",
            "21\n"
          ]
        }
      ]
    },
    {
      "cell_type": "code",
      "source": [
        "ids_sent1 = tokenizer.convert_tokens_to_ids(tokens_sent1)\n",
        "ids_sent1"
      ],
      "metadata": {
        "colab": {
          "base_uri": "https://localhost:8080/"
        },
        "id": "l9al5CIOFano",
        "outputId": "de376752-1d5c-478e-8713-2de4e1ee1dae"
      },
      "execution_count": null,
      "outputs": [
        {
          "output_type": "execute_result",
          "data": {
            "text/plain": [
              "[7763,\n",
              " 2086,\n",
              " 2031,\n",
              " 2908,\n",
              " 2011,\n",
              " 1010,\n",
              " 1998,\n",
              " 2145,\n",
              " 1045,\n",
              " 2064,\n",
              " 3288,\n",
              " 2067,\n",
              " 2296,\n",
              " 6987,\n",
              " 1997,\n",
              " 2008,\n",
              " 2154,\n",
              " 1999,\n",
              " 1996,\n",
              " 13244,\n",
              " 1012]"
            ]
          },
          "metadata": {},
          "execution_count": 30
        }
      ]
    },
    {
      "cell_type": "code",
      "source": [
        "print(tokenizer.cls_token_id)\n",
        "print(tokenizer.sep_token_id)"
      ],
      "metadata": {
        "colab": {
          "base_uri": "https://localhost:8080/"
        },
        "id": "lR6SQMV8_GUu",
        "outputId": "9312fada-a445-46bf-b805-70e0afe0e014"
      },
      "execution_count": null,
      "outputs": [
        {
          "output_type": "stream",
          "name": "stdout",
          "text": [
            "101\n",
            "102\n"
          ]
        }
      ]
    },
    {
      "cell_type": "code",
      "source": [
        "editted_token_ids_sent1 = torch.tensor([tokenizer.cls_token_id] + ids_sent1 + [tokenizer.sep_token_id])\n",
        "editted_token_ids_sent1"
      ],
      "metadata": {
        "colab": {
          "base_uri": "https://localhost:8080/"
        },
        "id": "ncDyWY_pPj7j",
        "outputId": "04168a3e-4adb-4388-ece8-677afccf8e11"
      },
      "execution_count": null,
      "outputs": [
        {
          "output_type": "execute_result",
          "data": {
            "text/plain": [
              "tensor([  101,  7763,  2086,  2031,  2908,  2011,  1010,  1998,  2145,  1045,\n",
              "         2064,  3288,  2067,  2296,  6987,  1997,  2008,  2154,  1999,  1996,\n",
              "        13244,  1012,   102])"
            ]
          },
          "metadata": {},
          "execution_count": 32
        }
      ]
    },
    {
      "cell_type": "code",
      "source": [
        "model(editted_token_ids_sent1)"
      ],
      "metadata": {
        "colab": {
          "base_uri": "https://localhost:8080/",
          "height": 316
        },
        "id": "QILGc3RIPrd4",
        "outputId": "ffb356a6-9fa9-4af0-8415-68c3d321bef0"
      },
      "execution_count": null,
      "outputs": [
        {
          "output_type": "error",
          "ename": "IndexError",
          "evalue": "ignored",
          "traceback": [
            "\u001b[0;31m---------------------------------------------------------------------------\u001b[0m",
            "\u001b[0;31mIndexError\u001b[0m                                Traceback (most recent call last)",
            "\u001b[0;32m<ipython-input-33-0606778e3549>\u001b[0m in \u001b[0;36m<module>\u001b[0;34m\u001b[0m\n\u001b[0;32m----> 1\u001b[0;31m \u001b[0mmodel\u001b[0m\u001b[0;34m(\u001b[0m\u001b[0meditted_token_ids_sent1\u001b[0m\u001b[0;34m)\u001b[0m\u001b[0;34m\u001b[0m\u001b[0;34m\u001b[0m\u001b[0m\n\u001b[0m",
            "\u001b[0;32m/usr/local/lib/python3.7/dist-packages/torch/nn/modules/module.py\u001b[0m in \u001b[0;36m_call_impl\u001b[0;34m(self, *input, **kwargs)\u001b[0m\n\u001b[1;32m   1128\u001b[0m         if not (self._backward_hooks or self._forward_hooks or self._forward_pre_hooks or _global_backward_hooks\n\u001b[1;32m   1129\u001b[0m                 or _global_forward_hooks or _global_forward_pre_hooks):\n\u001b[0;32m-> 1130\u001b[0;31m             \u001b[0;32mreturn\u001b[0m \u001b[0mforward_call\u001b[0m\u001b[0;34m(\u001b[0m\u001b[0;34m*\u001b[0m\u001b[0minput\u001b[0m\u001b[0;34m,\u001b[0m \u001b[0;34m**\u001b[0m\u001b[0mkwargs\u001b[0m\u001b[0;34m)\u001b[0m\u001b[0;34m\u001b[0m\u001b[0;34m\u001b[0m\u001b[0m\n\u001b[0m\u001b[1;32m   1131\u001b[0m         \u001b[0;31m# Do not call functions when jit is used\u001b[0m\u001b[0;34m\u001b[0m\u001b[0;34m\u001b[0m\u001b[0;34m\u001b[0m\u001b[0m\n\u001b[1;32m   1132\u001b[0m         \u001b[0mfull_backward_hooks\u001b[0m\u001b[0;34m,\u001b[0m \u001b[0mnon_full_backward_hooks\u001b[0m \u001b[0;34m=\u001b[0m \u001b[0;34m[\u001b[0m\u001b[0;34m]\u001b[0m\u001b[0;34m,\u001b[0m \u001b[0;34m[\u001b[0m\u001b[0;34m]\u001b[0m\u001b[0;34m\u001b[0m\u001b[0;34m\u001b[0m\u001b[0m\n",
            "\u001b[0;32m/usr/local/lib/python3.7/dist-packages/transformers/models/distilbert/modeling_distilbert.py\u001b[0m in \u001b[0;36mforward\u001b[0;34m(self, input_ids, attention_mask, head_mask, inputs_embeds, labels, output_attentions, output_hidden_states, return_dict)\u001b[0m\n\u001b[1;32m    758\u001b[0m             \u001b[0moutput_attentions\u001b[0m\u001b[0;34m=\u001b[0m\u001b[0moutput_attentions\u001b[0m\u001b[0;34m,\u001b[0m\u001b[0;34m\u001b[0m\u001b[0;34m\u001b[0m\u001b[0m\n\u001b[1;32m    759\u001b[0m             \u001b[0moutput_hidden_states\u001b[0m\u001b[0;34m=\u001b[0m\u001b[0moutput_hidden_states\u001b[0m\u001b[0;34m,\u001b[0m\u001b[0;34m\u001b[0m\u001b[0;34m\u001b[0m\u001b[0m\n\u001b[0;32m--> 760\u001b[0;31m             \u001b[0mreturn_dict\u001b[0m\u001b[0;34m=\u001b[0m\u001b[0mreturn_dict\u001b[0m\u001b[0;34m,\u001b[0m\u001b[0;34m\u001b[0m\u001b[0;34m\u001b[0m\u001b[0m\n\u001b[0m\u001b[1;32m    761\u001b[0m         )\n\u001b[1;32m    762\u001b[0m         \u001b[0mhidden_state\u001b[0m \u001b[0;34m=\u001b[0m \u001b[0mdistilbert_output\u001b[0m\u001b[0;34m[\u001b[0m\u001b[0;36m0\u001b[0m\u001b[0;34m]\u001b[0m  \u001b[0;31m# (bs, seq_len, dim)\u001b[0m\u001b[0;34m\u001b[0m\u001b[0;34m\u001b[0m\u001b[0m\n",
            "\u001b[0;32m/usr/local/lib/python3.7/dist-packages/torch/nn/modules/module.py\u001b[0m in \u001b[0;36m_call_impl\u001b[0;34m(self, *input, **kwargs)\u001b[0m\n\u001b[1;32m   1128\u001b[0m         if not (self._backward_hooks or self._forward_hooks or self._forward_pre_hooks or _global_backward_hooks\n\u001b[1;32m   1129\u001b[0m                 or _global_forward_hooks or _global_forward_pre_hooks):\n\u001b[0;32m-> 1130\u001b[0;31m             \u001b[0;32mreturn\u001b[0m \u001b[0mforward_call\u001b[0m\u001b[0;34m(\u001b[0m\u001b[0;34m*\u001b[0m\u001b[0minput\u001b[0m\u001b[0;34m,\u001b[0m \u001b[0;34m**\u001b[0m\u001b[0mkwargs\u001b[0m\u001b[0;34m)\u001b[0m\u001b[0;34m\u001b[0m\u001b[0;34m\u001b[0m\u001b[0m\n\u001b[0m\u001b[1;32m   1131\u001b[0m         \u001b[0;31m# Do not call functions when jit is used\u001b[0m\u001b[0;34m\u001b[0m\u001b[0;34m\u001b[0m\u001b[0;34m\u001b[0m\u001b[0m\n\u001b[1;32m   1132\u001b[0m         \u001b[0mfull_backward_hooks\u001b[0m\u001b[0;34m,\u001b[0m \u001b[0mnon_full_backward_hooks\u001b[0m \u001b[0;34m=\u001b[0m \u001b[0;34m[\u001b[0m\u001b[0;34m]\u001b[0m\u001b[0;34m,\u001b[0m \u001b[0;34m[\u001b[0m\u001b[0;34m]\u001b[0m\u001b[0;34m\u001b[0m\u001b[0;34m\u001b[0m\u001b[0m\n",
            "\u001b[0;32m/usr/local/lib/python3.7/dist-packages/transformers/models/distilbert/modeling_distilbert.py\u001b[0m in \u001b[0;36mforward\u001b[0;34m(self, input_ids, attention_mask, head_mask, inputs_embeds, output_attentions, output_hidden_states, return_dict)\u001b[0m\n\u001b[1;32m    570\u001b[0m \u001b[0;34m\u001b[0m\u001b[0m\n\u001b[1;32m    571\u001b[0m         \u001b[0;32mif\u001b[0m \u001b[0minputs_embeds\u001b[0m \u001b[0;32mis\u001b[0m \u001b[0;32mNone\u001b[0m\u001b[0;34m:\u001b[0m\u001b[0;34m\u001b[0m\u001b[0;34m\u001b[0m\u001b[0m\n\u001b[0;32m--> 572\u001b[0;31m             \u001b[0minputs_embeds\u001b[0m \u001b[0;34m=\u001b[0m \u001b[0mself\u001b[0m\u001b[0;34m.\u001b[0m\u001b[0membeddings\u001b[0m\u001b[0;34m(\u001b[0m\u001b[0minput_ids\u001b[0m\u001b[0;34m)\u001b[0m  \u001b[0;31m# (bs, seq_length, dim)\u001b[0m\u001b[0;34m\u001b[0m\u001b[0;34m\u001b[0m\u001b[0m\n\u001b[0m\u001b[1;32m    573\u001b[0m         return self.transformer(\n\u001b[1;32m    574\u001b[0m             \u001b[0mx\u001b[0m\u001b[0;34m=\u001b[0m\u001b[0minputs_embeds\u001b[0m\u001b[0;34m,\u001b[0m\u001b[0;34m\u001b[0m\u001b[0;34m\u001b[0m\u001b[0m\n",
            "\u001b[0;32m/usr/local/lib/python3.7/dist-packages/torch/nn/modules/module.py\u001b[0m in \u001b[0;36m_call_impl\u001b[0;34m(self, *input, **kwargs)\u001b[0m\n\u001b[1;32m   1128\u001b[0m         if not (self._backward_hooks or self._forward_hooks or self._forward_pre_hooks or _global_backward_hooks\n\u001b[1;32m   1129\u001b[0m                 or _global_forward_hooks or _global_forward_pre_hooks):\n\u001b[0;32m-> 1130\u001b[0;31m             \u001b[0;32mreturn\u001b[0m \u001b[0mforward_call\u001b[0m\u001b[0;34m(\u001b[0m\u001b[0;34m*\u001b[0m\u001b[0minput\u001b[0m\u001b[0;34m,\u001b[0m \u001b[0;34m**\u001b[0m\u001b[0mkwargs\u001b[0m\u001b[0;34m)\u001b[0m\u001b[0;34m\u001b[0m\u001b[0;34m\u001b[0m\u001b[0m\n\u001b[0m\u001b[1;32m   1131\u001b[0m         \u001b[0;31m# Do not call functions when jit is used\u001b[0m\u001b[0;34m\u001b[0m\u001b[0;34m\u001b[0m\u001b[0;34m\u001b[0m\u001b[0m\n\u001b[1;32m   1132\u001b[0m         \u001b[0mfull_backward_hooks\u001b[0m\u001b[0;34m,\u001b[0m \u001b[0mnon_full_backward_hooks\u001b[0m \u001b[0;34m=\u001b[0m \u001b[0;34m[\u001b[0m\u001b[0;34m]\u001b[0m\u001b[0;34m,\u001b[0m \u001b[0;34m[\u001b[0m\u001b[0;34m]\u001b[0m\u001b[0;34m\u001b[0m\u001b[0;34m\u001b[0m\u001b[0m\n",
            "\u001b[0;32m/usr/local/lib/python3.7/dist-packages/transformers/models/distilbert/modeling_distilbert.py\u001b[0m in \u001b[0;36mforward\u001b[0;34m(self, input_ids)\u001b[0m\n\u001b[1;32m    120\u001b[0m         embeddings)\n\u001b[1;32m    121\u001b[0m         \"\"\"\n\u001b[0;32m--> 122\u001b[0;31m         \u001b[0mseq_length\u001b[0m \u001b[0;34m=\u001b[0m \u001b[0minput_ids\u001b[0m\u001b[0;34m.\u001b[0m\u001b[0msize\u001b[0m\u001b[0;34m(\u001b[0m\u001b[0;36m1\u001b[0m\u001b[0;34m)\u001b[0m\u001b[0;34m\u001b[0m\u001b[0;34m\u001b[0m\u001b[0m\n\u001b[0m\u001b[1;32m    123\u001b[0m \u001b[0;34m\u001b[0m\u001b[0m\n\u001b[1;32m    124\u001b[0m         \u001b[0;31m# Setting the position-ids to the registered buffer in constructor, it helps\u001b[0m\u001b[0;34m\u001b[0m\u001b[0;34m\u001b[0m\u001b[0;34m\u001b[0m\u001b[0m\n",
            "\u001b[0;31mIndexError\u001b[0m: Dimension out of range (expected to be in range of [-1, 0], but got 1)"
          ]
        }
      ]
    },
    {
      "cell_type": "markdown",
      "source": [
        "The problem is that we sent a single sequence to the model, whereas 🤗 Transformers models expect multiple sentences by default. "
      ],
      "metadata": {
        "id": "BAIdfJhhXB_n"
      }
    },
    {
      "cell_type": "code",
      "source": [
        "editted_multi_d_token_ids_sent1 = torch.tensor([[tokenizer.cls_token_id] + ids_sent1 + [tokenizer.sep_token_id]])\n",
        "model(editted_multi_d_token_ids_sent1)"
      ],
      "metadata": {
        "colab": {
          "base_uri": "https://localhost:8080/"
        },
        "id": "bnTQe-zWP4Uf",
        "outputId": "a4aea37a-7fa7-4956-be3e-0521ceaae996"
      },
      "execution_count": null,
      "outputs": [
        {
          "output_type": "execute_result",
          "data": {
            "text/plain": [
              "SequenceClassifierOutput(loss=None, logits=tensor([[-2.9097,  3.0603]], grad_fn=<AddmmBackward0>), hidden_states=None, attentions=None)"
            ]
          },
          "metadata": {},
          "execution_count": 34
        }
      ]
    },
    {
      "cell_type": "markdown",
      "source": [
        "## What about processing multiple sentences at one time?"
      ],
      "metadata": {
        "id": "NrodiNZLQm4u"
      }
    },
    {
      "cell_type": "code",
      "source": [
        "tokens_sent2 = tokenizer.tokenize(Q1_sentence_nltk[1])\n",
        "  # output = tokenizer(sent)\n",
        "\n",
        "print(tokens_sent2)\n",
        "print(len(tokens_sent2))\n",
        "# print(output)"
      ],
      "metadata": {
        "colab": {
          "base_uri": "https://localhost:8080/"
        },
        "outputId": "4a356617-cd84-4db8-e61d-641b723ae88d",
        "id": "oz_JQpJRRrmi"
      },
      "execution_count": null,
      "outputs": [
        {
          "output_type": "stream",
          "name": "stdout",
          "text": [
            "['washed', 'clean', 'of', 'summer', '’', 's', 'dust', 'by', 'days', 'of', 'gentle', 'rain', ',', 'the', 'mountains', 'wore', 'a', 'deep', ',', 'brilliant', 'green', '.']\n",
            "22\n"
          ]
        }
      ]
    },
    {
      "cell_type": "code",
      "source": [
        "ids_sent2 = tokenizer.convert_tokens_to_ids(tokens_sent2)\n",
        "ids_sent2"
      ],
      "metadata": {
        "colab": {
          "base_uri": "https://localhost:8080/"
        },
        "outputId": "c0f68703-faf7-4494-c224-ce8f8bddc253",
        "id": "dfas4NWJRrmo"
      },
      "execution_count": null,
      "outputs": [
        {
          "output_type": "execute_result",
          "data": {
            "text/plain": [
              "[8871,\n",
              " 4550,\n",
              " 1997,\n",
              " 2621,\n",
              " 1521,\n",
              " 1055,\n",
              " 6497,\n",
              " 2011,\n",
              " 2420,\n",
              " 1997,\n",
              " 7132,\n",
              " 4542,\n",
              " 1010,\n",
              " 1996,\n",
              " 4020,\n",
              " 5078,\n",
              " 1037,\n",
              " 2784,\n",
              " 1010,\n",
              " 8235,\n",
              " 2665,\n",
              " 1012]"
            ]
          },
          "metadata": {},
          "execution_count": 36
        }
      ]
    },
    {
      "cell_type": "code",
      "source": [
        "print(tokenizer.cls_token_id)\n",
        "print(tokenizer.sep_token_id)"
      ],
      "metadata": {
        "colab": {
          "base_uri": "https://localhost:8080/"
        },
        "outputId": "83ca6ba6-1bc2-4b7f-920b-363e38da1009",
        "id": "r8VHgUccRrmo"
      },
      "execution_count": null,
      "outputs": [
        {
          "output_type": "stream",
          "name": "stdout",
          "text": [
            "101\n",
            "102\n"
          ]
        }
      ]
    },
    {
      "cell_type": "code",
      "source": [
        "editted_multi_d_token_ids_sent2 = torch.tensor([[tokenizer.cls_token_id] + ids_sent2 + [tokenizer.sep_token_id]])\n",
        "editted_multi_d_token_ids_sent2"
      ],
      "metadata": {
        "colab": {
          "base_uri": "https://localhost:8080/"
        },
        "outputId": "5017b72b-6d69-4e25-c493-ee4c4157d45e",
        "id": "ebsAJa-cRrmo"
      },
      "execution_count": null,
      "outputs": [
        {
          "output_type": "execute_result",
          "data": {
            "text/plain": [
              "tensor([[ 101, 8871, 4550, 1997, 2621, 1521, 1055, 6497, 2011, 2420, 1997, 7132,\n",
              "         4542, 1010, 1996, 4020, 5078, 1037, 2784, 1010, 8235, 2665, 1012,  102]])"
            ]
          },
          "metadata": {},
          "execution_count": 38
        }
      ]
    },
    {
      "cell_type": "code",
      "source": [
        "print(editted_multi_d_token_ids_sent1.shape)\n",
        "print(editted_multi_d_token_ids_sent2.shape)"
      ],
      "metadata": {
        "colab": {
          "base_uri": "https://localhost:8080/"
        },
        "id": "lXI6AD96R5r5",
        "outputId": "378057e4-da63-447a-8109-9aaa17c2fe85"
      },
      "execution_count": null,
      "outputs": [
        {
          "output_type": "stream",
          "name": "stdout",
          "text": [
            "torch.Size([1, 23])\n",
            "torch.Size([1, 24])\n"
          ]
        }
      ]
    },
    {
      "cell_type": "markdown",
      "source": [
        "## Padding to generate rectangular shape!!!"
      ],
      "metadata": {
        "id": "Rkis-L2rSK1A"
      }
    },
    {
      "cell_type": "markdown",
      "source": [
        "In order to work around this, we’ll use padding to make our tensors have a rectangular shape. Padding makes sure all our sentences have the same length by adding a special word called the padding token to the sentences with fewer values. For example, if you have 10 sentences with 10 words and 1 sentence with 20 words, padding will ensure all the sentences have 20 words.\n",
        "\n",
        "\n",
        "The padding token ID can be found in tokenizer.pad_token_id. \n",
        "\n",
        "\n",
        "In our example, the resulting tensor looks like this:"
      ],
      "metadata": {
        "id": "IN72YyHuSanK"
      }
    },
    {
      "cell_type": "code",
      "source": [
        "tokenizer.pad_token_id"
      ],
      "metadata": {
        "colab": {
          "base_uri": "https://localhost:8080/"
        },
        "id": "t1G4Wd2GTH-e",
        "outputId": "b2b228a2-dc04-44ee-fd58-7cd2de122782"
      },
      "execution_count": null,
      "outputs": [
        {
          "output_type": "execute_result",
          "data": {
            "text/plain": [
              "0"
            ]
          },
          "metadata": {},
          "execution_count": 40
        }
      ]
    },
    {
      "cell_type": "code",
      "source": [
        "padded_editted_multi_d_token_ids_sent1 = torch.tensor([[tokenizer.cls_token_id] + ids_sent1 + [tokenizer.sep_token_id] + [tokenizer.pad_token_id]])\n",
        "padded_editted_multi_d_token_ids_sent1"
      ],
      "metadata": {
        "colab": {
          "base_uri": "https://localhost:8080/"
        },
        "id": "1jKR-ciPSKd-",
        "outputId": "374adadb-cf56-4243-a206-b644d34f5375"
      },
      "execution_count": null,
      "outputs": [
        {
          "output_type": "execute_result",
          "data": {
            "text/plain": [
              "tensor([[  101,  7763,  2086,  2031,  2908,  2011,  1010,  1998,  2145,  1045,\n",
              "          2064,  3288,  2067,  2296,  6987,  1997,  2008,  2154,  1999,  1996,\n",
              "         13244,  1012,   102,     0]])"
            ]
          },
          "metadata": {},
          "execution_count": 41
        }
      ]
    },
    {
      "cell_type": "code",
      "source": [
        "padded_inputs_ids = torch.stack((padded_editted_multi_d_token_ids_sent1.squeeze(),editted_multi_d_token_ids_sent2.squeeze()))\n",
        "padded_inputs_ids"
      ],
      "metadata": {
        "colab": {
          "base_uri": "https://localhost:8080/"
        },
        "id": "_6xUmzigSUMY",
        "outputId": "8ecf876e-7b94-4c1f-c2ef-0984ecfdf6f0"
      },
      "execution_count": null,
      "outputs": [
        {
          "output_type": "execute_result",
          "data": {
            "text/plain": [
              "tensor([[  101,  7763,  2086,  2031,  2908,  2011,  1010,  1998,  2145,  1045,\n",
              "          2064,  3288,  2067,  2296,  6987,  1997,  2008,  2154,  1999,  1996,\n",
              "         13244,  1012,   102,     0],\n",
              "        [  101,  8871,  4550,  1997,  2621,  1521,  1055,  6497,  2011,  2420,\n",
              "          1997,  7132,  4542,  1010,  1996,  4020,  5078,  1037,  2784,  1010,\n",
              "          8235,  2665,  1012,   102]])"
            ]
          },
          "metadata": {},
          "execution_count": 42
        }
      ]
    },
    {
      "cell_type": "code",
      "source": [
        "model(editted_multi_d_token_ids_sent1).logits"
      ],
      "metadata": {
        "colab": {
          "base_uri": "https://localhost:8080/"
        },
        "id": "9aF7OIeSSUW4",
        "outputId": "b9d8853d-a064-4f41-f693-484e77bde0d1"
      },
      "execution_count": null,
      "outputs": [
        {
          "output_type": "execute_result",
          "data": {
            "text/plain": [
              "tensor([[-2.9097,  3.0603]], grad_fn=<AddmmBackward0>)"
            ]
          },
          "metadata": {},
          "execution_count": 43
        }
      ]
    },
    {
      "cell_type": "code",
      "source": [
        "model(editted_multi_d_token_ids_sent2).logits"
      ],
      "metadata": {
        "colab": {
          "base_uri": "https://localhost:8080/"
        },
        "id": "4yGGDytpUGyx",
        "outputId": "f037ec6a-ace2-40f6-eb84-81315e8a6895"
      },
      "execution_count": null,
      "outputs": [
        {
          "output_type": "execute_result",
          "data": {
            "text/plain": [
              "tensor([[-2.9906,  3.1538]], grad_fn=<AddmmBackward0>)"
            ]
          },
          "metadata": {},
          "execution_count": 44
        }
      ]
    },
    {
      "cell_type": "code",
      "source": [
        "model(padded_inputs_ids).logits"
      ],
      "metadata": {
        "colab": {
          "base_uri": "https://localhost:8080/"
        },
        "id": "TUzQZ3hNUJdf",
        "outputId": "61647eb8-0014-4f37-a8d7-51996537e118"
      },
      "execution_count": null,
      "outputs": [
        {
          "output_type": "execute_result",
          "data": {
            "text/plain": [
              "tensor([[-2.7389,  2.8820],\n",
              "        [-2.9906,  3.1538]], grad_fn=<AddmmBackward0>)"
            ]
          },
          "metadata": {},
          "execution_count": 45
        }
      ]
    },
    {
      "cell_type": "markdown",
      "source": [
        "There’s something wrong with the logits in our batched predictions: the first row should be the same as the logits for the first sentence, but we’ve got completely different values!\n",
        "\n",
        "This is because the key feature of Transformer models is attention layers that contextualize each token. These will take into account the padding tokens since they attend to all of the tokens of a sequence. To get the same result when passing individual sentences of different lengths through the model or when passing a batch with the same sentences and padding applied, we need to tell those attention layers to ignore the padding tokens. This is done by using an attention mask."
      ],
      "metadata": {
        "id": "tpiov9WYUOx5"
      }
    },
    {
      "cell_type": "markdown",
      "source": [
        "## Generate attention mask!"
      ],
      "metadata": {
        "id": "6J27_kIDUm07"
      }
    },
    {
      "cell_type": "code",
      "source": [
        "attention_mask_sent1_2 = torch.ones(padded_inputs_ids.shape)\n",
        "attention_mask_sent1_2"
      ],
      "metadata": {
        "colab": {
          "base_uri": "https://localhost:8080/"
        },
        "id": "7v-0A7y-UWWg",
        "outputId": "68aa8f33-8518-45b3-ffd6-2155eac04f94"
      },
      "execution_count": null,
      "outputs": [
        {
          "output_type": "execute_result",
          "data": {
            "text/plain": [
              "tensor([[1., 1., 1., 1., 1., 1., 1., 1., 1., 1., 1., 1., 1., 1., 1., 1., 1., 1.,\n",
              "         1., 1., 1., 1., 1., 1.],\n",
              "        [1., 1., 1., 1., 1., 1., 1., 1., 1., 1., 1., 1., 1., 1., 1., 1., 1., 1.,\n",
              "         1., 1., 1., 1., 1., 1.]])"
            ]
          },
          "metadata": {},
          "execution_count": 46
        }
      ]
    },
    {
      "cell_type": "code",
      "source": [
        "attention_mask_sent1_2[0,-1] = 0\n",
        "attention_mask_sent1_2"
      ],
      "metadata": {
        "colab": {
          "base_uri": "https://localhost:8080/"
        },
        "id": "uTE8k27nUyot",
        "outputId": "dd81fe68-2469-4466-8a6b-f4151a949587"
      },
      "execution_count": null,
      "outputs": [
        {
          "output_type": "execute_result",
          "data": {
            "text/plain": [
              "tensor([[1., 1., 1., 1., 1., 1., 1., 1., 1., 1., 1., 1., 1., 1., 1., 1., 1., 1.,\n",
              "         1., 1., 1., 1., 1., 0.],\n",
              "        [1., 1., 1., 1., 1., 1., 1., 1., 1., 1., 1., 1., 1., 1., 1., 1., 1., 1.,\n",
              "         1., 1., 1., 1., 1., 1.]])"
            ]
          },
          "metadata": {},
          "execution_count": 47
        }
      ]
    },
    {
      "cell_type": "code",
      "source": [
        "model(torch.tensor(padded_inputs_ids), attention_mask=torch.tensor(attention_mask_sent1_2)).logits"
      ],
      "metadata": {
        "colab": {
          "base_uri": "https://localhost:8080/"
        },
        "id": "rLETHiMXU3jr",
        "outputId": "3116620f-7935-41ed-dc44-369559c9b903"
      },
      "execution_count": null,
      "outputs": [
        {
          "output_type": "stream",
          "name": "stderr",
          "text": [
            "/usr/local/lib/python3.7/dist-packages/ipykernel_launcher.py:1: UserWarning: To copy construct from a tensor, it is recommended to use sourceTensor.clone().detach() or sourceTensor.clone().detach().requires_grad_(True), rather than torch.tensor(sourceTensor).\n",
            "  \"\"\"Entry point for launching an IPython kernel.\n"
          ]
        },
        {
          "output_type": "execute_result",
          "data": {
            "text/plain": [
              "tensor([[-2.9097,  3.0603],\n",
              "        [-2.9906,  3.1538]], grad_fn=<AddmmBackward0>)"
            ]
          },
          "metadata": {},
          "execution_count": 48
        }
      ]
    },
    {
      "cell_type": "markdown",
      "source": [
        "## Now try to process the whole paragraph at once!"
      ],
      "metadata": {
        "id": "Zo5VuW9bVOZW"
      }
    },
    {
      "cell_type": "code",
      "source": [
        "max_token_len = 0\n",
        "tokens_list = []\n",
        "for sent in Q1_sentence_nltk:\n",
        "  curr_tokens = tokenizer.tokenize(sent)\n",
        "  curr_tokens_id = tokenizer.convert_tokens_to_ids(curr_tokens)\n",
        "  updated_curr_tokens = [tokenizer.cls_token_id] + curr_tokens_id + [tokenizer.sep_token_id]\n",
        "  # print(updated_curr_tokens)\n",
        "  tokens_list.append(updated_curr_tokens)\n",
        "  if len(updated_curr_tokens) > max_token_len :\n",
        "    max_token_len = len(updated_curr_tokens)\n",
        "print(\"tokens_list: \", tokens_list)\n",
        "print(\"max_token_len: \", len(max(tokens_list,key=len)))\n",
        "print(\"index of max length sent: \", tokens_list.index(max(tokens_list,key=len)))\n",
        "print(\"sentence_count: \", len(tokens_list))"
      ],
      "metadata": {
        "id": "pkzqzz_M_LKM",
        "colab": {
          "base_uri": "https://localhost:8080/"
        },
        "outputId": "a7de1c09-b79e-4b91-ed95-da8b7d14406a"
      },
      "execution_count": 88,
      "outputs": [
        {
          "output_type": "stream",
          "name": "stdout",
          "text": [
            "tokens_list:  [[101, 7763, 2086, 2031, 2908, 2011, 1010, 1998, 2145, 1045, 2064, 3288, 2067, 2296, 6987, 1997, 2008, 2154, 1999, 1996, 13244, 1012, 102], [101, 8871, 4550, 1997, 2621, 1521, 1055, 6497, 2011, 2420, 1997, 7132, 4542, 1010, 1996, 4020, 5078, 1037, 2784, 1010, 8235, 2665, 1012, 102], [101, 1996, 2255, 9478, 2275, 2317, 10424, 15422, 2015, 1997, 2132, 1011, 4206, 21620, 21826, 1012, 102], [101, 2028, 2146, 9039, 1997, 6112, 5112, 19351, 2094, 2408, 1037, 8514, 1997, 7708, 2630, 1012, 102], [101, 2009, 2471, 3480, 2000, 2298, 2012, 2008, 2521, 7245, 3712, 1012, 102], [101, 1037, 23893, 1997, 3612, 7260, 2408, 1996, 13244, 1998, 2083, 2014, 2606, 2077, 2009, 5707, 2046, 1996, 5249, 2000, 18399, 2571, 5628, 1998, 4604, 2067, 23365, 2229, 1997, 6802, 19372, 1011, 1037, 26710, 2614, 2008, 2790, 2000, 3362, 2149, 2013, 1996, 7086, 2000, 2178, 2088, 1012, 102], [101, 2057, 2657, 2053, 2060, 4165, 1012, 102], [101, 2057, 2777, 2053, 2060, 2111, 1012, 102], [101, 2057, 2387, 2069, 2048, 4408, 1010, 2417, 5055, 11679, 9696, 2013, 1996, 2415, 1997, 1996, 13244, 1998, 14957, 2046, 1996, 5249, 1012, 102], [101, 2004, 2057, 2572, 23242, 2247, 1010, 6583, 16366, 3764, 2000, 2033, 1997, 7051, 1012, 102], [101, 3638, 2003, 1037, 6057, 2518, 1012, 102], [101, 2043, 1045, 2001, 1999, 1996, 3496, 1010, 1045, 6684, 3825, 2009, 2151, 2568, 1012, 102], [101, 1045, 2196, 3030, 2000, 2228, 1997, 2009, 2004, 2242, 2008, 2052, 2191, 1037, 9879, 8605, 1010, 5121, 2196, 8078, 2008, 7763, 2086, 2101, 1045, 2052, 9131, 2009, 1999, 2107, 6987, 1012, 102], [101, 1045, 2134, 1521, 1056, 2507, 1037, 4365, 2055, 1996, 17363, 2008, 2154, 1012, 102], [101, 1045, 2001, 3241, 2055, 2870, 1012, 102], [101, 1045, 2001, 3241, 2055, 1996, 3376, 2611, 3788, 2279, 2000, 2033, 1012, 102], [101, 1045, 2001, 3241, 2055, 1996, 2048, 1997, 2149, 2362, 1010, 1998, 2059, 2055, 2870, 2153, 1012, 102], [101, 2009, 2001, 1996, 2287, 1010, 2008, 2051, 1997, 2166, 2043, 2296, 4356, 1010, 2296, 3110, 1010, 2296, 2245, 2234, 2067, 1010, 2066, 1037, 8797, 23169, 2290, 1010, 2000, 2033, 1012, 102], [101, 1998, 4788, 1010, 1045, 2001, 1999, 2293, 1012, 102], [101, 2293, 2007, 12763, 1012, 102], [101, 17363, 2001, 1996, 2197, 2518, 2006, 2026, 2568, 1012, 102], [101, 2085, 1010, 2295, 1010, 2008, 13244, 3496, 2003, 1996, 2034, 2518, 2008, 3310, 2067, 2000, 2033, 1012, 102], [101, 1996, 5437, 1997, 1996, 5568, 1010, 1996, 8143, 10720, 1997, 1996, 3612, 1010, 1996, 2240, 1997, 1996, 4564, 1010, 1996, 19372, 1997, 1037, 3899, 1024, 2122, 2024, 1996, 2034, 2477, 1010, 1998, 2027, 2272, 2007, 7619, 15563, 1012, 102], [101, 1045, 2514, 2004, 2065, 1045, 2064, 3362, 2041, 1998, 7637, 2068, 2007, 1037, 4344, 25101, 1012, 102], [101, 1998, 2664, 1010, 2004, 3154, 2004, 1996, 3496, 2089, 2022, 1010, 2053, 2028, 2003, 1999, 2009, 1012, 102], [101, 2053, 2028, 1012, 102], [101, 6583, 16366, 2003, 2025, 2045, 1010, 1998, 4445, 2572, 1045, 1012, 102], [101, 2073, 2071, 2057, 2031, 5419, 2000, 1029, 102], [101, 2129, 2071, 2107, 1037, 2518, 2031, 3047, 1029, 102], [101, 2673, 2008, 2790, 2061, 2590, 2067, 2059, 1011, 6583, 16366, 1010, 1998, 1996, 2969, 1045, 2001, 2059, 1010, 1998, 1996, 2088, 1045, 2018, 2059, 1024, 2073, 2071, 2027, 2031, 2035, 2908, 1029, 102], [101, 2009, 1521, 1055, 2995, 1010, 1045, 2064, 1521, 1056, 2130, 3288, 2067, 6583, 16366, 1521, 1055, 2227, 1011, 2025, 2157, 2185, 1010, 2012, 2560, 1012, 102], [101, 2035, 1045, 1521, 1049, 2187, 3173, 2003, 1037, 4281, 1010, 11591, 17363, 1010, 2007, 2053, 2111, 2039, 2392, 1012, 102]]\n",
            "max_token_len:  48\n",
            "index of max length sent:  5\n",
            "sentence_count:  32\n"
          ]
        }
      ]
    },
    {
      "cell_type": "code",
      "source": [
        "token_ids_padded = torch.zeros(32,48,dtype=torch.int)\n",
        "token_ids_padded"
      ],
      "metadata": {
        "id": "STXWgBkbAlJ9",
        "colab": {
          "base_uri": "https://localhost:8080/"
        },
        "outputId": "d4ed958b-1815-4c0d-8894-2a8463b8f4f2"
      },
      "execution_count": 89,
      "outputs": [
        {
          "output_type": "execute_result",
          "data": {
            "text/plain": [
              "tensor([[0, 0, 0,  ..., 0, 0, 0],\n",
              "        [0, 0, 0,  ..., 0, 0, 0],\n",
              "        [0, 0, 0,  ..., 0, 0, 0],\n",
              "        ...,\n",
              "        [0, 0, 0,  ..., 0, 0, 0],\n",
              "        [0, 0, 0,  ..., 0, 0, 0],\n",
              "        [0, 0, 0,  ..., 0, 0, 0]], dtype=torch.int32)"
            ]
          },
          "metadata": {},
          "execution_count": 89
        }
      ]
    },
    {
      "cell_type": "code",
      "source": [
        "attention_mask_padded = torch.zeros(32,48, dtype=torch.int)\n",
        "attention_mask_padded"
      ],
      "metadata": {
        "id": "DnoKFsv3A105",
        "colab": {
          "base_uri": "https://localhost:8080/"
        },
        "outputId": "3f065832-dd98-4372-ee22-920a9f0a9ac0"
      },
      "execution_count": 90,
      "outputs": [
        {
          "output_type": "execute_result",
          "data": {
            "text/plain": [
              "tensor([[0, 0, 0,  ..., 0, 0, 0],\n",
              "        [0, 0, 0,  ..., 0, 0, 0],\n",
              "        [0, 0, 0,  ..., 0, 0, 0],\n",
              "        ...,\n",
              "        [0, 0, 0,  ..., 0, 0, 0],\n",
              "        [0, 0, 0,  ..., 0, 0, 0],\n",
              "        [0, 0, 0,  ..., 0, 0, 0]], dtype=torch.int32)"
            ]
          },
          "metadata": {},
          "execution_count": 90
        }
      ]
    },
    {
      "cell_type": "code",
      "source": [
        "for sent_index in range(len(tokens_list)):\n",
        "  attention_mask_padded[sent_index,0:len(tokens_list[sent_index])] = 1\n",
        "  token_ids_padded[sent_index,0:len(tokens_list[sent_index])] = torch.tensor(tokens_list[sent_index])\n",
        "print(attention_mask_padded)\n",
        "print(token_ids_padded)"
      ],
      "metadata": {
        "id": "nXCDZHMnA_Kg",
        "colab": {
          "base_uri": "https://localhost:8080/"
        },
        "outputId": "18c1241c-bdab-43f5-8c3e-c99984b56b73"
      },
      "execution_count": 91,
      "outputs": [
        {
          "output_type": "stream",
          "name": "stdout",
          "text": [
            "tensor([[1, 1, 1,  ..., 0, 0, 0],\n",
            "        [1, 1, 1,  ..., 0, 0, 0],\n",
            "        [1, 1, 1,  ..., 0, 0, 0],\n",
            "        ...,\n",
            "        [1, 1, 1,  ..., 0, 0, 0],\n",
            "        [1, 1, 1,  ..., 0, 0, 0],\n",
            "        [1, 1, 1,  ..., 0, 0, 0]], dtype=torch.int32)\n",
            "tensor([[ 101, 7763, 2086,  ...,    0,    0,    0],\n",
            "        [ 101, 8871, 4550,  ...,    0,    0,    0],\n",
            "        [ 101, 1996, 2255,  ...,    0,    0,    0],\n",
            "        ...,\n",
            "        [ 101, 2673, 2008,  ...,    0,    0,    0],\n",
            "        [ 101, 2009, 1521,  ...,    0,    0,    0],\n",
            "        [ 101, 2035, 1045,  ...,    0,    0,    0]], dtype=torch.int32)\n"
          ]
        }
      ]
    },
    {
      "cell_type": "code",
      "source": [
        "inputs_by_my_own = {\"input_ids\":token_ids_padded,\"attention_mask\": attention_mask_padded}\n",
        "inputs_by_my_own"
      ],
      "metadata": {
        "id": "tm-HXaSqDKPT",
        "colab": {
          "base_uri": "https://localhost:8080/"
        },
        "outputId": "a4f7fb35-e690-43c2-c7e7-920390a1c8a4"
      },
      "execution_count": 92,
      "outputs": [
        {
          "output_type": "execute_result",
          "data": {
            "text/plain": [
              "{'input_ids': tensor([[ 101, 7763, 2086,  ...,    0,    0,    0],\n",
              "         [ 101, 8871, 4550,  ...,    0,    0,    0],\n",
              "         [ 101, 1996, 2255,  ...,    0,    0,    0],\n",
              "         ...,\n",
              "         [ 101, 2673, 2008,  ...,    0,    0,    0],\n",
              "         [ 101, 2009, 1521,  ...,    0,    0,    0],\n",
              "         [ 101, 2035, 1045,  ...,    0,    0,    0]], dtype=torch.int32),\n",
              " 'attention_mask': tensor([[1, 1, 1,  ..., 0, 0, 0],\n",
              "         [1, 1, 1,  ..., 0, 0, 0],\n",
              "         [1, 1, 1,  ..., 0, 0, 0],\n",
              "         ...,\n",
              "         [1, 1, 1,  ..., 0, 0, 0],\n",
              "         [1, 1, 1,  ..., 0, 0, 0],\n",
              "         [1, 1, 1,  ..., 0, 0, 0]], dtype=torch.int32)}"
            ]
          },
          "metadata": {},
          "execution_count": 92
        }
      ]
    },
    {
      "cell_type": "code",
      "source": [
        "inputs_by_tokenizer = tokenizer(Q1_sentence_nltk, padding=True, truncation=True, return_tensors=\"pt\")\n",
        "print(inputs_by_tokenizer)"
      ],
      "metadata": {
        "id": "F3JGzcCZDMxJ",
        "colab": {
          "base_uri": "https://localhost:8080/"
        },
        "outputId": "be4688e8-3137-4b4c-8255-6b471214ce3a"
      },
      "execution_count": 93,
      "outputs": [
        {
          "output_type": "stream",
          "name": "stdout",
          "text": [
            "{'input_ids': tensor([[ 101, 7763, 2086,  ...,    0,    0,    0],\n",
            "        [ 101, 8871, 4550,  ...,    0,    0,    0],\n",
            "        [ 101, 1996, 2255,  ...,    0,    0,    0],\n",
            "        ...,\n",
            "        [ 101, 2673, 2008,  ...,    0,    0,    0],\n",
            "        [ 101, 2009, 1521,  ...,    0,    0,    0],\n",
            "        [ 101, 2035, 1045,  ...,    0,    0,    0]]), 'attention_mask': tensor([[1, 1, 1,  ..., 0, 0, 0],\n",
            "        [1, 1, 1,  ..., 0, 0, 0],\n",
            "        [1, 1, 1,  ..., 0, 0, 0],\n",
            "        ...,\n",
            "        [1, 1, 1,  ..., 0, 0, 0],\n",
            "        [1, 1, 1,  ..., 0, 0, 0],\n",
            "        [1, 1, 1,  ..., 0, 0, 0]])}\n"
          ]
        }
      ]
    },
    {
      "cell_type": "code",
      "source": [
        "from transformers import AutoModelForSequenceClassification\n",
        "\n",
        "checkpoint = \"distilbert-base-uncased-finetuned-sst-2-english\"\n",
        "model = AutoModelForSequenceClassification.from_pretrained(checkpoint)\n",
        "outputs_by_my_own = model(**inputs_by_my_own)"
      ],
      "metadata": {
        "id": "hd63QfNMD8WG"
      },
      "execution_count": 94,
      "outputs": []
    },
    {
      "cell_type": "code",
      "source": [
        "print(outputs_by_my_own.logits.shape)"
      ],
      "metadata": {
        "id": "7LwTM6ZgD8WG",
        "colab": {
          "base_uri": "https://localhost:8080/"
        },
        "outputId": "9655cffa-4187-4e8e-db0b-2c33feee5740"
      },
      "execution_count": 95,
      "outputs": [
        {
          "output_type": "stream",
          "name": "stdout",
          "text": [
            "torch.Size([32, 2])\n"
          ]
        }
      ]
    },
    {
      "cell_type": "code",
      "source": [
        "print(outputs_by_my_own.logits)"
      ],
      "metadata": {
        "id": "i4EZ2KTBD8WG",
        "colab": {
          "base_uri": "https://localhost:8080/"
        },
        "outputId": "67ca720a-a907-4b29-ab80-71d80eee253c"
      },
      "execution_count": 96,
      "outputs": [
        {
          "output_type": "stream",
          "name": "stdout",
          "text": [
            "tensor([[-2.9097,  3.0603],\n",
            "        [-2.9906,  3.1538],\n",
            "        [-3.0856,  3.3513],\n",
            "        [ 0.5252, -0.3588],\n",
            "        [ 1.7268, -1.3978],\n",
            "        [-0.1638,  0.2964],\n",
            "        [ 2.4347, -1.9709],\n",
            "        [-1.5700,  1.5212],\n",
            "        [ 0.5479, -0.2465],\n",
            "        [-3.0891,  3.2033],\n",
            "        [-3.8900,  4.1634],\n",
            "        [ 4.2343, -3.4772],\n",
            "        [-3.5073,  3.6947],\n",
            "        [ 3.6969, -3.0664],\n",
            "        [-2.7650,  2.8711],\n",
            "        [-3.7879,  4.0219],\n",
            "        [-2.5296,  2.5948],\n",
            "        [-3.1700,  3.3370],\n",
            "        [ 2.3666, -1.9988],\n",
            "        [-3.8532,  4.0928],\n",
            "        [ 4.1809, -3.4629],\n",
            "        [-2.3029,  2.3895],\n",
            "        [-4.0548,  4.2781],\n",
            "        [-1.8823,  1.9305],\n",
            "        [ 3.0080, -2.4859],\n",
            "        [ 2.7569, -2.3052],\n",
            "        [ 3.5068, -2.8443],\n",
            "        [ 3.2776, -2.6787],\n",
            "        [ 3.4121, -2.7691],\n",
            "        [ 2.0810, -1.6311],\n",
            "        [-3.2181,  3.4149],\n",
            "        [ 0.7319, -0.5070]], grad_fn=<AddmmBackward0>)\n"
          ]
        }
      ]
    },
    {
      "cell_type": "code",
      "source": [
        "outputs.logits.eq(outputs_by_my_own.logits)"
      ],
      "metadata": {
        "id": "YK0zxwwUEYmR",
        "colab": {
          "base_uri": "https://localhost:8080/"
        },
        "outputId": "5c071651-591b-48e6-cd0d-f1ea0b85b56b"
      },
      "execution_count": 97,
      "outputs": [
        {
          "output_type": "execute_result",
          "data": {
            "text/plain": [
              "tensor([[True, True],\n",
              "        [True, True],\n",
              "        [True, True],\n",
              "        [True, True],\n",
              "        [True, True],\n",
              "        [True, True],\n",
              "        [True, True],\n",
              "        [True, True],\n",
              "        [True, True],\n",
              "        [True, True],\n",
              "        [True, True],\n",
              "        [True, True],\n",
              "        [True, True],\n",
              "        [True, True],\n",
              "        [True, True],\n",
              "        [True, True],\n",
              "        [True, True],\n",
              "        [True, True],\n",
              "        [True, True],\n",
              "        [True, True],\n",
              "        [True, True],\n",
              "        [True, True],\n",
              "        [True, True],\n",
              "        [True, True],\n",
              "        [True, True],\n",
              "        [True, True],\n",
              "        [True, True],\n",
              "        [True, True],\n",
              "        [True, True],\n",
              "        [True, True],\n",
              "        [True, True],\n",
              "        [True, True]])"
            ]
          },
          "metadata": {},
          "execution_count": 97
        }
      ]
    },
    {
      "cell_type": "code",
      "source": [
        "import torch\n",
        "\n",
        "predictions_by_my_own = torch.nn.functional.softmax(outputs_by_my_own.logits, dim=-1)\n",
        "print(predictions_by_my_own)"
      ],
      "metadata": {
        "id": "86YanTItD8WG"
      },
      "execution_count": null,
      "outputs": []
    },
    {
      "cell_type": "code",
      "source": [
        "model.config.id2label"
      ],
      "metadata": {
        "id": "c42yM3ZtEkXy",
        "colab": {
          "base_uri": "https://localhost:8080/"
        },
        "outputId": "29aedf95-e2aa-42fe-aa2e-98e628391963"
      },
      "execution_count": 99,
      "outputs": [
        {
          "output_type": "execute_result",
          "data": {
            "text/plain": [
              "{0: 'NEGATIVE', 1: 'POSITIVE'}"
            ]
          },
          "metadata": {},
          "execution_count": 99
        }
      ]
    },
    {
      "cell_type": "code",
      "source": [
        "pred_labels_by_my_own = predictions_by_my_own.max(0).indices\n",
        "print(pred_labels_by_my_own)\n",
        "print(Q1_sentence_nltk[int(pred_labels_by_my_own[0])])\n",
        "print(Q1_sentence_nltk[int(pred_labels_by_my_own[1])])"
      ],
      "metadata": {
        "id": "nTc5TZjVEses",
        "colab": {
          "base_uri": "https://localhost:8080/"
        },
        "outputId": "5be0765b-8e3e-44af-aea9-1f0ae7563088"
      },
      "execution_count": 100,
      "outputs": [
        {
          "output_type": "stream",
          "name": "stdout",
          "text": [
            "tensor([11, 22])\n",
            "When I was in the scene, I hardly paid it any mind.\n",
            "The smell of the grass, the faint chill of the wind, the line of the hills, the barking of a dog: these are the first things, and they come with absolute clarity.\n"
          ]
        }
      ]
    },
    {
      "cell_type": "code",
      "source": [
        "most_score_by_my_own = predictions_by_my_own.max(0)\n",
        "most_score_by_my_own"
      ],
      "metadata": {
        "id": "678uKAPbEset",
        "colab": {
          "base_uri": "https://localhost:8080/"
        },
        "outputId": "688f3013-eb4d-40ea-c0a4-91b5a7a03929"
      },
      "execution_count": 101,
      "outputs": [
        {
          "output_type": "execute_result",
          "data": {
            "text/plain": [
              "torch.return_types.max(\n",
              "values=tensor([0.9996, 0.9998], grad_fn=<MaxBackward0>),\n",
              "indices=tensor([11, 22]))"
            ]
          },
          "metadata": {},
          "execution_count": 101
        }
      ]
    },
    {
      "cell_type": "markdown",
      "source": [
        "# Finish the same task with batch size of 4, do padding and generate attention mask by your own."
      ],
      "metadata": {
        "id": "B-2cMT6QCY5n"
      }
    },
    {
      "cell_type": "code",
      "source": [
        "\n",
        "batch_list = []\n",
        "batch_size = 4\n",
        "batch_count = 8\n",
        "\n",
        "# Generate batch sentence list\n",
        "\n",
        "for batch_num in range(batch_count):\n",
        "  batch_sent = Q1_sentence_nltk[batch_num*4:batch_num*4+4]\n",
        "  batch_list.append(batch_sent)\n",
        "\n",
        "print(batch_list)"
      ],
      "metadata": {
        "id": "TGPNjgKyCPMS",
        "colab": {
          "base_uri": "https://localhost:8080/"
        },
        "outputId": "048e5404-f5a4-426d-d6d5-2cfdb49c988a"
      },
      "execution_count": 102,
      "outputs": [
        {
          "output_type": "stream",
          "name": "stdout",
          "text": [
            "[['Eighteen years have gone by, and still I can bring back every detail of that day in the meadow.', 'Washed clean of summer’s dust by days of gentle rain, the mountains wore a deep, brilliant green.', 'The October breeze set white fronds of head-tall grasses swaying.', 'One long streak of cloud hung pasted across a dome of frozen blue.'], ['It almost hurt to look at that faroff sky.', 'A puff of wind swept across the meadow and through her hair before it slipped into the woods to rustle branches and send back snatches of distant barking-a hazy sound that seemed to reach us from the doorway to another world.', 'We heard no other sounds.', 'We met no other people.'], ['We saw only two bright, red birds leap startled from the center of the meadow and dart into the woods.', 'As we ambled along, Naoko spoke to me of wells.', 'Memory is a funny thing.', 'When I was in the scene, I hardly paid it any mind.'], ['I never stopped to think of it as something that would make a lasting impression, certainly never imagined that eighteen years later I would recall it in such detail.', 'I didn’t give a damn about the scenery that day.', 'I was thinking about myself.', 'I was thinking about the beautiful girl walking next to me.'], ['I was thinking about the two of us together, and then about myself again.', 'It was the age, that time of life when every sight, every feeling, every thought came back, like a boomerang, to me.', 'And worse, I was in love.', 'Love with complications.'], ['Scenery was the last thing on my mind.', 'Now, though, that meadow scene is the first thing that comes back to me.', 'The smell of the grass, the faint chill of the wind, the line of the hills, the barking of a dog: these are the first things, and they come with absolute clarity.', 'I feel as if I can reach out and trace them with a fingertip.'], ['And yet, as clear as the scene may be, no one is in it.', 'No one.', 'Naoko is not there, and neither am I.', 'Where could we have disappeared to?'], ['How could such a thing have happened?', 'Everything that seemed so important back then-Naoko, and the self I was then, and the world I had then: where could they have all gone?', 'It’s true, I can’t even bring back Naoko’s face-not right away, at least.', 'All I’m left holding is a background, sheer scenery, with no people up front.']]\n"
          ]
        }
      ]
    },
    {
      "cell_type": "code",
      "source": [
        "from transformers import AutoModelForSequenceClassification\n",
        "\n",
        "checkpoint = \"distilbert-base-uncased-finetuned-sst-2-english\"\n",
        "model = AutoModelForSequenceClassification.from_pretrained(checkpoint)\n",
        "final_logits = ''\n",
        "\n",
        "for batch in batch_list:\n",
        "  max_token_len = 0\n",
        "  tokens_list = []\n",
        "  for sent in batch:\n",
        "    curr_tokens = tokenizer.tokenize(sent)\n",
        "    curr_tokens_id = tokenizer.convert_tokens_to_ids(curr_tokens)\n",
        "    updated_curr_tokens = [tokenizer.cls_token_id] + curr_tokens_id + [tokenizer.sep_token_id]\n",
        "    # print(updated_curr_tokens)\n",
        "    tokens_list.append(updated_curr_tokens)\n",
        "    if len(updated_curr_tokens) > max_token_len :\n",
        "      max_token_len = len(updated_curr_tokens)\n",
        "  token_ids_padded = torch.zeros(batch_size,max_token_len,dtype=torch.int)\n",
        "  attention_mask_padded = torch.zeros(batch_size,max_token_len, dtype=torch.int)\n",
        "  for sent_index in range(len(tokens_list)):\n",
        "    attention_mask_padded[sent_index,0:len(tokens_list[sent_index])] = 1\n",
        "    token_ids_padded[sent_index,0:len(tokens_list[sent_index])] = torch.tensor(tokens_list[sent_index])\n",
        "  # print(attention_mask_padded.shape)\n",
        "  # print(token_ids_padded.shape)\n",
        "  inputs_by_my_own_batch = {\"input_ids\":token_ids_padded,\"attention_mask\": attention_mask_padded}\n",
        "  outputs_by_my_own_batch = model(**inputs_by_my_own_batch)\n",
        "  # print(outputs_by_my_own_batch.logits)\n",
        "  if not torch.is_tensor(final_logits) :\n",
        "    final_logits = outputs_by_my_own_batch.logits\n",
        "  else:\n",
        "    final_logits = torch.cat((final_logits,outputs_by_my_own_batch.logits),dim=0)\n",
        "print(final_logits)"
      ],
      "metadata": {
        "colab": {
          "base_uri": "https://localhost:8080/"
        },
        "id": "GqAvEtX4JuZ3",
        "outputId": "b365c674-f214-44e2-a763-2236cf73089c"
      },
      "execution_count": 103,
      "outputs": [
        {
          "output_type": "stream",
          "name": "stdout",
          "text": [
            "tensor([[-2.9097,  3.0603],\n",
            "        [-2.9906,  3.1538],\n",
            "        [-3.0856,  3.3513],\n",
            "        [ 0.5252, -0.3588],\n",
            "        [ 1.7268, -1.3978],\n",
            "        [-0.1638,  0.2964],\n",
            "        [ 2.4347, -1.9709],\n",
            "        [-1.5700,  1.5212],\n",
            "        [ 0.5479, -0.2465],\n",
            "        [-3.0891,  3.2033],\n",
            "        [-3.8900,  4.1634],\n",
            "        [ 4.2343, -3.4772],\n",
            "        [-3.5073,  3.6947],\n",
            "        [ 3.6969, -3.0664],\n",
            "        [-2.7650,  2.8711],\n",
            "        [-3.7879,  4.0219],\n",
            "        [-2.5296,  2.5948],\n",
            "        [-3.1700,  3.3370],\n",
            "        [ 2.3666, -1.9988],\n",
            "        [-3.8532,  4.0928],\n",
            "        [ 4.1809, -3.4629],\n",
            "        [-2.3029,  2.3895],\n",
            "        [-4.0548,  4.2781],\n",
            "        [-1.8823,  1.9305],\n",
            "        [ 3.0080, -2.4859],\n",
            "        [ 2.7569, -2.3052],\n",
            "        [ 3.5068, -2.8443],\n",
            "        [ 3.2776, -2.6787],\n",
            "        [ 3.4121, -2.7691],\n",
            "        [ 2.0810, -1.6311],\n",
            "        [-3.2181,  3.4149],\n",
            "        [ 0.7319, -0.5070]], grad_fn=<CatBackward0>)\n"
          ]
        }
      ]
    },
    {
      "cell_type": "code",
      "source": [
        "outputs.logits"
      ],
      "metadata": {
        "colab": {
          "base_uri": "https://localhost:8080/"
        },
        "id": "6JNJQfGaYxx-",
        "outputId": "ac17fcc4-1d2c-4d6a-f4b3-d70b088ccc4a"
      },
      "execution_count": null,
      "outputs": [
        {
          "output_type": "execute_result",
          "data": {
            "text/plain": [
              "tensor([[-2.9097,  3.0603],\n",
              "        [-2.9906,  3.1538],\n",
              "        [-3.0856,  3.3513],\n",
              "        [ 0.5252, -0.3588],\n",
              "        [ 1.7268, -1.3978],\n",
              "        [-0.1638,  0.2964],\n",
              "        [ 2.4347, -1.9709],\n",
              "        [-1.5700,  1.5212],\n",
              "        [ 0.5479, -0.2465],\n",
              "        [-3.0891,  3.2033],\n",
              "        [-3.8900,  4.1634],\n",
              "        [ 4.2343, -3.4772],\n",
              "        [-3.5073,  3.6947],\n",
              "        [ 3.6969, -3.0664],\n",
              "        [-2.7650,  2.8711],\n",
              "        [-3.7879,  4.0219],\n",
              "        [-2.5296,  2.5948],\n",
              "        [-3.1700,  3.3370],\n",
              "        [ 2.3666, -1.9988],\n",
              "        [-3.8532,  4.0928],\n",
              "        [ 4.1809, -3.4629],\n",
              "        [-2.3029,  2.3895],\n",
              "        [-4.0548,  4.2781],\n",
              "        [-1.8823,  1.9305],\n",
              "        [ 3.0080, -2.4859],\n",
              "        [ 2.7569, -2.3052],\n",
              "        [ 3.5068, -2.8443],\n",
              "        [ 3.2776, -2.6787],\n",
              "        [ 3.4121, -2.7691],\n",
              "        [ 2.0810, -1.6311],\n",
              "        [-3.2181,  3.4149],\n",
              "        [ 0.7319, -0.5070]], grad_fn=<AddmmBackward0>)"
            ]
          },
          "metadata": {},
          "execution_count": 80
        }
      ]
    },
    {
      "cell_type": "code",
      "source": [
        "import torch\n",
        "\n",
        "predictions_by_my_own_batch = torch.nn.functional.softmax(final_logits, dim=-1)\n",
        "print(predictions_by_my_own_batch)"
      ],
      "metadata": {
        "colab": {
          "base_uri": "https://localhost:8080/"
        },
        "id": "cWb-Ta_1JuZ5",
        "outputId": "e25479bb-d7de-49a3-e31b-e247a8513d4c"
      },
      "execution_count": 104,
      "outputs": [
        {
          "output_type": "stream",
          "name": "stdout",
          "text": [
            "tensor([[2.5478e-03, 9.9745e-01],\n",
            "        [2.1409e-03, 9.9786e-01],\n",
            "        [1.5987e-03, 9.9840e-01],\n",
            "        [7.0765e-01, 2.9235e-01],\n",
            "        [9.5789e-01, 4.2105e-02],\n",
            "        [3.8693e-01, 6.1307e-01],\n",
            "        [9.8794e-01, 1.2061e-02],\n",
            "        [4.3471e-02, 9.5653e-01],\n",
            "        [6.8877e-01, 3.1123e-01],\n",
            "        [1.8469e-03, 9.9815e-01],\n",
            "        [3.1792e-04, 9.9968e-01],\n",
            "        [9.9955e-01, 4.4744e-04],\n",
            "        [7.4454e-04, 9.9926e-01],\n",
            "        [9.9885e-01, 1.1541e-03],\n",
            "        [3.5544e-03, 9.9645e-01],\n",
            "        [4.0561e-04, 9.9959e-01],\n",
            "        [5.9148e-03, 9.9409e-01],\n",
            "        [1.4907e-03, 9.9851e-01],\n",
            "        [9.8745e-01, 1.2550e-02],\n",
            "        [3.5395e-04, 9.9965e-01],\n",
            "        [9.9952e-01, 4.7879e-04],\n",
            "        [9.0807e-03, 9.9092e-01],\n",
            "        [2.4041e-04, 9.9976e-01],\n",
            "        [2.1609e-02, 9.7839e-01],\n",
            "        [9.9591e-01, 4.0950e-03],\n",
            "        [9.9371e-01, 6.2927e-03],\n",
            "        [9.9826e-01, 1.7418e-03],\n",
            "        [9.9742e-01, 2.5827e-03],\n",
            "        [9.9794e-01, 2.0636e-03],\n",
            "        [9.7616e-01, 2.3845e-02],\n",
            "        [1.3146e-03, 9.9869e-01],\n",
            "        [7.7537e-01, 2.2463e-01]], grad_fn=<SoftmaxBackward0>)\n"
          ]
        }
      ]
    },
    {
      "cell_type": "code",
      "source": [
        "model.config.id2label"
      ],
      "metadata": {
        "colab": {
          "base_uri": "https://localhost:8080/"
        },
        "id": "9J-A8-TkJuZ5",
        "outputId": "cec0b921-9bb8-4be4-bebf-70e6e28d0f4e"
      },
      "execution_count": null,
      "outputs": [
        {
          "output_type": "execute_result",
          "data": {
            "text/plain": [
              "{0: 'NEGATIVE', 1: 'POSITIVE'}"
            ]
          },
          "metadata": {},
          "execution_count": 82
        }
      ]
    },
    {
      "cell_type": "code",
      "source": [
        "pred_labels_by_my_own_batch = predictions_by_my_own_batch.max(0).indices\n",
        "print(pred_labels_by_my_own_batch)\n",
        "print(Q1_sentence_nltk[int(pred_labels_by_my_own_batch[0])])\n",
        "print(Q1_sentence_nltk[int(pred_labels_by_my_own_batch[1])])"
      ],
      "metadata": {
        "colab": {
          "base_uri": "https://localhost:8080/"
        },
        "id": "PQtSEbR0JuZ5",
        "outputId": "b8bbf072-8d26-45bf-9ea0-ff2683d4f1cc"
      },
      "execution_count": null,
      "outputs": [
        {
          "output_type": "stream",
          "name": "stdout",
          "text": [
            "tensor([11, 22])\n",
            "When I was in the scene, I hardly paid it any mind.\n",
            "The smell of the grass, the faint chill of the wind, the line of the hills, the barking of a dog: these are the first things, and they come with absolute clarity.\n"
          ]
        }
      ]
    },
    {
      "cell_type": "code",
      "source": [
        "pred_labels_by_my_own_batch = predictions_by_my_own_batch.max(0)\n",
        "pred_labels_by_my_own_batch"
      ],
      "metadata": {
        "colab": {
          "base_uri": "https://localhost:8080/"
        },
        "id": "rnTW1wXOJuZ5",
        "outputId": "4b2551f8-bd25-4d8f-cc1b-8b6a22a4aa55"
      },
      "execution_count": null,
      "outputs": [
        {
          "output_type": "execute_result",
          "data": {
            "text/plain": [
              "torch.return_types.max(\n",
              "values=tensor([0.9996, 0.9998], grad_fn=<MaxBackward0>),\n",
              "indices=tensor([11, 22]))"
            ]
          },
          "metadata": {},
          "execution_count": 86
        }
      ]
    }
  ]
}